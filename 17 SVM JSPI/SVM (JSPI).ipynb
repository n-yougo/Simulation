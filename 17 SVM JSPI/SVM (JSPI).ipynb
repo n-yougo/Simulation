{
 "cells": [
  {
   "cell_type": "code",
   "execution_count": 12,
   "metadata": {
    "collapsed": true
   },
   "outputs": [],
   "source": [
    "from numpy.random import *\n",
    "import math\n",
    "import numpy as np\n",
    "from sklearn.svm import SVC\n",
    "%matplotlib inline"
   ]
  },
  {
   "cell_type": "code",
   "execution_count": 69,
   "metadata": {},
   "outputs": [
    {
     "name": "stdout",
     "output_type": "stream",
     "text": [
      "4\n",
      "[0.645, 0.647, 0.646, 0.64, 0.632, 0.636]\n",
      "5\n",
      "[0.708, 0.7155, 0.71175, 0.6945, 0.6965, 0.6955]\n",
      "6\n",
      "[0.7755, 0.763, 0.76925, 0.78, 0.754, 0.767]\n",
      "7\n",
      "[0.861, 0.87, 0.8655, 0.858, 0.8595, 0.85875]\n",
      "8\n",
      "[0.939, 0.942, 0.9405, 0.938, 0.939, 0.9385]\n",
      "9\n",
      "[0.9875, 0.9855, 0.9865, 0.989, 0.9865, 0.98775]\n",
      "10\n",
      "[0.999, 0.999, 0.999, 0.999, 0.999, 0.999]\n"
     ]
    }
   ],
   "source": [
    "clf = SVC()\n",
    "n = [10,10];c = [1,1];\n",
    "y = ([-1]*n[0]) + ([1]*n[1])\n",
    "for q in range(4,11):\n",
    "    Y1 = 0; Y2 = 0; Y3 = 0; Y4 = 0;\n",
    "    p=2**q\n",
    "    #mean vector\n",
    "    mu1 = [0]*p;mu2 = [1/3]*p\n",
    "    mu = [mu1, mu2]\n",
    "    #covariance\n",
    "    Sigma0=[np.eye(p), np.eye(p)];\n",
    "\n",
    "    P= [];Q=[];\n",
    "    for i in range(0,2):\n",
    "        decomposition = np.linalg.eig(Sigma0[i]) \n",
    "        P.append(decomposition[0])\n",
    "        Q.append(decomposition[1])\n",
    "\n",
    "    #iteration\n",
    "    for l in range(2000):\n",
    "        r1 = [];r2 = [];\n",
    "        for j in range(n[0]):\n",
    "            r0 = [];    \n",
    "            for i in range(p):\n",
    "                r0.append(math.sqrt(P[0][i])*randn())\n",
    "            r1.append(np.dot(r0, Q[0]) + mu[0])\n",
    "        for j in range(n[1]):\n",
    "            r0 = [];\n",
    "            for i in range(p):\n",
    "                r0.append(math.sqrt(P[1][i])*randn())\n",
    "            r2.append(np.dot(r0, Q[1]) + mu[1])\n",
    "        np.shape(r1)\n",
    "        r0 = [];\n",
    "        for i in range(p):\n",
    "                r0.append(math.sqrt(P[0][i])*randn())\n",
    "        test1 = np.dot(r0, Q[0]) + mu[0];r0 = [];\n",
    "        for i in range(p):\n",
    "            r0.append(math.sqrt(P[1][i])*randn())\n",
    "        test2 = np.dot(r0, Q[1]) + mu[1];test = [test1, test2];\n",
    "        mean1 = np.mean(r1, axis = 0);mean2 = np.mean(r2, axis = 0)\n",
    "        g1 = np.trace(np.cov(r1));g2 = np.trace(np.cov(r2));\n",
    "        #SVM \n",
    "        r1.extend(r2)\n",
    "        clf.fit(r1, y)\n",
    "        #prediction\n",
    "        if np.dot(test1 - (mean1 + mean2)/2, mean2-mean1)-g1/2/n[0]+g2/2/n[1]<0:\n",
    "            Y1 = Y1 +1\n",
    "        else:\n",
    "            Y1 = Y1 +0\n",
    "        if np.dot(test2 - (mean1 + mean2)/2, mean2-mean1)-g1/2/n[0]+g2/2/n[1]>0:\n",
    "            Y2 = Y2 + 1\n",
    "        else:\n",
    "            Y2 = Y2 + 0\n",
    "        if clf.predict([test1])<0:\n",
    "            Y3 = Y3 +1\n",
    "        else:\n",
    "            Y3 = Y3 +0\n",
    "        if clf.predict([test2])>0:\n",
    "            Y4 = Y4 + 1\n",
    "        else:\n",
    "            Y4 = Y4 + 0\n",
    "    print(q)\n",
    "    print([Y1/2000, Y2/2000, (Y1+Y2)/4000, Y3/2000, Y4/2000, (Y3+Y4)/4000])"
   ]
  },
  {
   "cell_type": "code",
   "execution_count": 82,
   "metadata": {},
   "outputs": [
    {
     "data": {
      "text/plain": [
       "inf"
      ]
     },
     "execution_count": 82,
     "metadata": {},
     "output_type": "execute_result"
    }
   ],
   "source": [
    "np.shape(r1)\n",
    "r1.extend(r2)\n",
    "np.shape(r1)\n",
    "float(\"inf\")+1"
   ]
  },
  {
   "cell_type": "code",
   "execution_count": 83,
   "metadata": {},
   "outputs": [
    {
     "name": "stdout",
     "output_type": "stream",
     "text": [
      "4\n",
      "[0.6635, 0.64, 0.65175, 0.616, 0.6155, 0.61575]\n",
      "5\n",
      "[0.7055, 0.6965, 0.701, 0.6705, 0.668, 0.66925]\n",
      "6\n",
      "[0.779, 0.7875, 0.78325, 0.755, 0.738, 0.7465]\n",
      "7\n",
      "[0.8565, 0.8655, 0.861, 0.8335, 0.854, 0.84375]\n",
      "8\n",
      "[0.93, 0.935, 0.9325, 0.9245, 0.929, 0.92675]\n",
      "9\n",
      "[0.9845, 0.9935, 0.989, 0.9805, 0.989, 0.98475]\n",
      "10\n",
      "[1.0, 0.9985, 0.99925, 0.999, 0.998, 0.9985]\n"
     ]
    }
   ],
   "source": [
    "clf = SVC(C = float(\"inf\"), kernel='linear')\n",
    "n = [10,10];c = [1,1];\n",
    "y = ([-1]*n[0]) + ([1]*n[1])\n",
    "for q in range(4,11):\n",
    "    Y1 = 0; Y2 = 0; Y3 = 0; Y4 = 0;\n",
    "    p=2**q\n",
    "    #mean vector\n",
    "    mu1 = [0]*p;mu2 = [1/3]*p\n",
    "    mu = [mu1, mu2]\n",
    "    #covariance\n",
    "    Sigma0=[np.eye(p), np.eye(p)];\n",
    "\n",
    "    P= [];Q=[];\n",
    "    for i in range(0,2):\n",
    "        decomposition = np.linalg.eig(Sigma0[i]) \n",
    "        P.append(decomposition[0])\n",
    "        Q.append(decomposition[1])\n",
    "\n",
    "    #iteration\n",
    "    for l in range(2000):\n",
    "        r1 = [];r2 = [];\n",
    "        for j in range(n[0]):\n",
    "            r0 = [];    \n",
    "            for i in range(p):\n",
    "                r0.append(math.sqrt(P[0][i])*randn())\n",
    "            r1.append(np.dot(r0, Q[0]) + mu[0])\n",
    "        for j in range(n[1]):\n",
    "            r0 = [];\n",
    "            for i in range(p):\n",
    "                r0.append(math.sqrt(P[1][i])*randn())\n",
    "            r2.append(np.dot(r0, Q[1]) + mu[1])\n",
    "        np.shape(r1)\n",
    "        r0 = [];\n",
    "        for i in range(p):\n",
    "                r0.append(math.sqrt(P[0][i])*randn())\n",
    "        test1 = np.dot(r0, Q[0]) + mu[0];r0 = [];\n",
    "        for i in range(p):\n",
    "            r0.append(math.sqrt(P[1][i])*randn())\n",
    "        test2 = np.dot(r0, Q[1]) + mu[1];test = [test1, test2];\n",
    "        mean1 = np.mean(r1, axis = 0);mean2 = np.mean(r2, axis = 0)\n",
    "        g1 = np.trace(np.cov(r1));g2 = np.trace(np.cov(r2));\n",
    "        #SVM \n",
    "        r1.extend(r2)\n",
    "        clf.fit(r1, y)\n",
    "        #prediction\n",
    "        if np.dot(test1 - (mean1 + mean2)/2, mean2-mean1)-g1/2/n[0]+g2/2/n[1]<0:\n",
    "            Y1 = Y1 +1\n",
    "        else:\n",
    "            Y1 = Y1 +0\n",
    "        if np.dot(test2 - (mean1 + mean2)/2, mean2-mean1)-g1/2/n[0]+g2/2/n[1]>0:\n",
    "            Y2 = Y2 + 1\n",
    "        else:\n",
    "            Y2 = Y2 + 0\n",
    "        if clf.predict([test1])<0:\n",
    "            Y3 = Y3 +1\n",
    "        else:\n",
    "            Y3 = Y3 +0\n",
    "        if clf.predict([test2])>0:\n",
    "            Y4 = Y4 + 1\n",
    "        else:\n",
    "            Y4 = Y4 + 0\n",
    "    print(q)\n",
    "    print([Y1/2000, Y2/2000, (Y1+Y2)/4000, Y3/2000, Y4/2000, (Y3+Y4)/4000])"
   ]
  },
  {
   "cell_type": "code",
   "execution_count": 84,
   "metadata": {},
   "outputs": [
    {
     "name": "stdout",
     "output_type": "stream",
     "text": [
      "4\n",
      "[0.525, 0.759, 0.642, 0.477, 0.733, 0.605]\n",
      "5\n",
      "[0.5295, 0.8235, 0.6765, 0.495, 0.7955, 0.64525]\n",
      "6\n",
      "[0.5335, 0.9035, 0.7185, 0.5135, 0.8945, 0.704]\n",
      "7\n",
      "[0.5545, 0.975, 0.76475, 0.5365, 0.9685, 0.7525]\n",
      "8\n",
      "[0.575, 0.9975, 0.78625, 0.5675, 0.9965, 0.782]\n",
      "9\n",
      "[0.6295, 1.0, 0.81475, 0.6205, 1.0, 0.81025]\n",
      "10\n",
      "[0.6755, 1.0, 0.83775, 0.6665, 1.0, 0.83325]\n"
     ]
    }
   ],
   "source": [
    "clf = SVC(C = float(\"inf\"), kernel='linear')\n",
    "n = [6,14];c = [1,1];\n",
    "y = ([-1]*n[0]) + ([1]*n[1])\n",
    "for q in range(4,11):\n",
    "    Y1 = 0; Y2 = 0; Y3 = 0; Y4 = 0;\n",
    "    p=2**q\n",
    "    #mean vector\n",
    "    mu1 = [0]*p;mu2 = [1/3]*p\n",
    "    mu = [mu1, mu2]\n",
    "    #covariance\n",
    "    Sigma0=[np.eye(p), np.eye(p)];\n",
    "\n",
    "    P= [];Q=[];\n",
    "    for i in range(0,2):\n",
    "        decomposition = np.linalg.eig(Sigma0[i]) \n",
    "        P.append(decomposition[0])\n",
    "        Q.append(decomposition[1])\n",
    "\n",
    "    #iteration\n",
    "    for l in range(2000):\n",
    "        r1 = [];r2 = [];\n",
    "        for j in range(n[0]):\n",
    "            r0 = [];    \n",
    "            for i in range(p):\n",
    "                r0.append(math.sqrt(P[0][i])*randn())\n",
    "            r1.append(np.dot(r0, Q[0]) + mu[0])\n",
    "        for j in range(n[1]):\n",
    "            r0 = [];\n",
    "            for i in range(p):\n",
    "                r0.append(math.sqrt(P[1][i])*randn())\n",
    "            r2.append(np.dot(r0, Q[1]) + mu[1])\n",
    "        np.shape(r1)\n",
    "        r0 = [];\n",
    "        for i in range(p):\n",
    "                r0.append(math.sqrt(P[0][i])*randn())\n",
    "        test1 = np.dot(r0, Q[0]) + mu[0];r0 = [];\n",
    "        for i in range(p):\n",
    "            r0.append(math.sqrt(P[1][i])*randn())\n",
    "        test2 = np.dot(r0, Q[1]) + mu[1];test = [test1, test2];\n",
    "        mean1 = np.mean(r1, axis = 0);mean2 = np.mean(r2, axis = 0)\n",
    "        g1 = np.trace(np.cov(r1));g2 = np.trace(np.cov(r2));\n",
    "        #SVM \n",
    "        r1.extend(r2)\n",
    "        clf.fit(r1, y)\n",
    "        #prediction\n",
    "        if np.dot(test1 - (mean1 + mean2)/2, mean2-mean1)-g1/2/n[0]+g2/2/n[1]<0:\n",
    "            Y1 = Y1 +1\n",
    "        else:\n",
    "            Y1 = Y1 +0\n",
    "        if np.dot(test2 - (mean1 + mean2)/2, mean2-mean1)-g1/2/n[0]+g2/2/n[1]>0:\n",
    "            Y2 = Y2 + 1\n",
    "        else:\n",
    "            Y2 = Y2 + 0\n",
    "        if clf.predict([test1])<0:\n",
    "            Y3 = Y3 +1\n",
    "        else:\n",
    "            Y3 = Y3 +0\n",
    "        if clf.predict([test2])>0:\n",
    "            Y4 = Y4 + 1\n",
    "        else:\n",
    "            Y4 = Y4 + 0\n",
    "    print(q)\n",
    "    print([Y1/2000, Y2/2000, (Y1+Y2)/4000, Y3/2000, Y4/2000, (Y3+Y4)/4000])"
   ]
  },
  {
   "cell_type": "code",
   "execution_count": 85,
   "metadata": {},
   "outputs": [
    {
     "name": "stdout",
     "output_type": "stream",
     "text": [
      "4\n",
      "[0.7385, 0.615, 0.67675, 0.7385, 0.5205, 0.6295]\n",
      "5\n",
      "[0.8375, 0.584, 0.71075, 0.826, 0.528, 0.677]\n",
      "6\n",
      "[0.9435, 0.6105, 0.777, 0.9385, 0.56, 0.74925]\n",
      "7\n",
      "[0.993, 0.6105, 0.80175, 0.99, 0.5775, 0.78375]\n",
      "8\n",
      "[0.9995, 0.6465, 0.823, 0.999, 0.635, 0.817]\n",
      "9\n",
      "[1.0, 0.708, 0.854, 1.0, 0.6915, 0.84575]\n",
      "10\n",
      "[1.0, 0.77, 0.885, 1.0, 0.7625, 0.88125]\n"
     ]
    }
   ],
   "source": [
    "clf = SVC(C = float(\"inf\"), kernel='linear')\n",
    "n = [10,10];c = [1,1];\n",
    "y = ([-1]*n[0]) + ([1]*n[1])\n",
    "for q in range(4,11):\n",
    "    Y1 = 0; Y2 = 0; Y3 = 0; Y4 = 0;\n",
    "    p=2**q\n",
    "    #mean vector\n",
    "    mu1 = [0]*p;mu2 = [1/3]*p\n",
    "    mu = [mu1, mu2]\n",
    "    #covariance\n",
    "    Sigma0=[0.6 * np.eye(p), 1.4 * np.eye(p)];\n",
    "\n",
    "    P= [];Q=[];\n",
    "    for i in range(0,2):\n",
    "        decomposition = np.linalg.eig(Sigma0[i]) \n",
    "        P.append(decomposition[0])\n",
    "        Q.append(decomposition[1])\n",
    "\n",
    "    #iteration\n",
    "    for l in range(2000):\n",
    "        r1 = [];r2 = [];\n",
    "        for j in range(n[0]):\n",
    "            r0 = [];    \n",
    "            for i in range(p):\n",
    "                r0.append(math.sqrt(P[0][i])*randn())\n",
    "            r1.append(np.dot(r0, Q[0]) + mu[0])\n",
    "        for j in range(n[1]):\n",
    "            r0 = [];\n",
    "            for i in range(p):\n",
    "                r0.append(math.sqrt(P[1][i])*randn())\n",
    "            r2.append(np.dot(r0, Q[1]) + mu[1])\n",
    "        np.shape(r1)\n",
    "        r0 = [];\n",
    "        for i in range(p):\n",
    "                r0.append(math.sqrt(P[0][i])*randn())\n",
    "        test1 = np.dot(r0, Q[0]) + mu[0];r0 = [];\n",
    "        for i in range(p):\n",
    "            r0.append(math.sqrt(P[1][i])*randn())\n",
    "        test2 = np.dot(r0, Q[1]) + mu[1];test = [test1, test2];\n",
    "        mean1 = np.mean(r1, axis = 0);mean2 = np.mean(r2, axis = 0)\n",
    "        g1 = np.trace(np.cov(r1));g2 = np.trace(np.cov(r2));\n",
    "        #SVM \n",
    "        r1.extend(r2)\n",
    "        clf.fit(r1, y)\n",
    "        #prediction\n",
    "        if np.dot(test1 - (mean1 + mean2)/2, mean2-mean1)-g1/2/n[0]+g2/2/n[1]<0:\n",
    "            Y1 = Y1 +1\n",
    "        else:\n",
    "            Y1 = Y1 +0\n",
    "        if np.dot(test2 - (mean1 + mean2)/2, mean2-mean1)-g1/2/n[0]+g2/2/n[1]>0:\n",
    "            Y2 = Y2 + 1\n",
    "        else:\n",
    "            Y2 = Y2 + 0\n",
    "        if clf.predict([test1])<0:\n",
    "            Y3 = Y3 +1\n",
    "        else:\n",
    "            Y3 = Y3 +0\n",
    "        if clf.predict([test2])>0:\n",
    "            Y4 = Y4 + 1\n",
    "        else:\n",
    "            Y4 = Y4 + 0\n",
    "    print(q)\n",
    "    print([Y1/2000, Y2/2000, (Y1+Y2)/4000, Y3/2000, Y4/2000, (Y3+Y4)/4000])"
   ]
  },
  {
   "cell_type": "code",
   "execution_count": 51,
   "metadata": {},
   "outputs": [
    {
     "name": "stdout",
     "output_type": "stream",
     "text": [
      "[1]\n"
     ]
    },
    {
     "data": {
      "text/plain": [
       "[array([-1, -1]), array([-2, -1]), array([1, 1]), array([2, 1])]"
      ]
     },
     "execution_count": 51,
     "metadata": {},
     "output_type": "execute_result"
    }
   ],
   "source": [
    "import numpy as np\n",
    "X = [np.array([-1, -1]), np.array([-2, -1]), np.array([1, 1]), np.array([2, 1])]\n",
    "y = [1, 1, 2, 2]\n",
    "from sklearn.svm import SVC\n",
    "clf = SVC()\n",
    "clf.fit(X, y) \n",
    "print(clf.predict([[-0.8, -1]]))\n",
    "X"
   ]
  },
  {
   "cell_type": "code",
   "execution_count": 59,
   "metadata": {
    "collapsed": true
   },
   "outputs": [],
   "source": [
    "import matplotlib.pyplot as plt\n",
    "pl = np.arange(5,12,1)"
   ]
  },
  {
   "cell_type": "code",
   "execution_count": 183,
   "metadata": {
    "collapsed": true
   },
   "outputs": [],
   "source": [
    "toyex1 = [[1]*6]*7-np.array([[0.6635, 0.64, 0.65175, 0.616, 0.6155, 0.61575],\n",
    "          [0.7055, 0.6965, 0.701, 0.6705, 0.668, 0.66925],\n",
    "          [0.779, 0.7875, 0.78325, 0.755, 0.738, 0.7465],\n",
    "          [0.8565, 0.8655, 0.861, 0.8335, 0.854, 0.84375],\n",
    "          [0.93, 0.935, 0.9325, 0.9245, 0.929, 0.92675],\n",
    "          [0.9845, 0.9935, 0.989, 0.9805, 0.989, 0.98475],\n",
    "          [1.0, 0.9985, 0.99925, 0.999, 0.998, 0.9985]])\n",
    "toyex2 = [[1]*6]*7-np.array([\n",
    "    [0.525, 0.759, 0.642, 0.477, 0.733, 0.605],\n",
    "    [0.5295, 0.8235, 0.6765, 0.495, 0.7955, 0.64525],\n",
    "    [0.5335, 0.9035, 0.7185, 0.5135, 0.8945, 0.704],\n",
    "    [0.5545, 0.975, 0.76475, 0.5365, 0.9685, 0.7525],\n",
    "    [0.575, 0.9975, 0.78625, 0.5675, 0.9965, 0.782],\n",
    "    [0.6295, 1.0, 0.81475, 0.6205, 1.0, 0.81025],\n",
    "    [0.6755, 1.0, 0.83775, 0.6665, 1.0, 0.83325]\n",
    "    ])\n",
    "toyex3 = [[1]*6]*7-np.array([\n",
    "    [0.7385, 0.615, 0.67675, 0.7385, 0.5205, 0.6295],\n",
    "    [0.8375, 0.584, 0.71075, 0.826, 0.528, 0.677],\n",
    "    [0.9435, 0.6105, 0.777, 0.9385, 0.56, 0.74925],\n",
    "    [0.993, 0.6105, 0.80175, 0.99, 0.5775, 0.78375],\n",
    "    [0.9995, 0.6465, 0.823, 0.999, 0.635, 0.817],\n",
    "    [1.0, 0.708, 0.854, 1.0, 0.6915, 0.84575],\n",
    "    [1.0, 0.77, 0.885, 1.0, 0.7625, 0.88125]])"
   ]
  },
  {
   "cell_type": "code",
   "execution_count": 166,
   "metadata": {
    "scrolled": true
   },
   "outputs": [
    {
     "data": {
      "text/plain": [
       "<matplotlib.legend.Legend at 0x1e086bf08d0>"
      ]
     },
     "execution_count": 166,
     "metadata": {},
     "output_type": "execute_result"
    },
    {
     "data": {
      "image/png": "[encoded data removed]",
      "text/plain": [
       "<matplotlib.figure.Figure at 0x1e086b850b8>"
      ]
     },
     "metadata": {},
     "output_type": "display_data"
    }
   ],
   "source": [
    "plt.rc('text', usetex=True)\n",
    "plt.rc('font', family='serif') # the both codes are needed\n",
    "\n",
    "plt.plot(pl, (toyex3.T)[2], \"v\", label=\"DBDA\", color='blue', linestyle='solid', linewidth= 2.0)\n",
    "plt.plot(pl, (toyex3.T)[5], \"o\", label=\"SVM\", color ='red', linestyle='dotted')\n",
    "plt.title(\"error rate of $ y $\")\n",
    "plt.ylim(-0.2, 1.02)\n",
    "plt.xlabel(\"$ \\log_2 p $\")\n",
    "plt.ylabel(\"$ \\overline{e}$\")\n",
    "plt.legend(loc=\"lower right\")"
   ]
  },
  {
   "cell_type": "code",
   "execution_count": 193,
   "metadata": {},
   "outputs": [
    {
     "data": {
      "text/plain": [
       "<matplotlib.legend.Legend at 0x1e086c2f668>"
      ]
     },
     "execution_count": 193,
     "metadata": {},
     "output_type": "execute_result"
    },
    {
     "data": {
      "image/png": "[encoded data removed]",
      "text/plain": [
       "<matplotlib.figure.Figure at 0x1e088214f98>"
      ]
     },
     "metadata": {},
     "output_type": "display_data"
    }
   ],
   "source": [
    "plt.plot(pl, (toyex1.T)[3], \"o\", label=\"(a)\", color='black', linestyle='dashed', linewidth= 2.0)\n",
    "plt.plot(pl, (toyex2.T)[3], \"s\", label=\"(b)\", color='blue', linestyle='dashed', linewidth= 2.0)\n",
    "plt.plot(pl, (toyex3.T)[3], \"D\", label=\"(c)\", color='r', linestyle='dotted', linewidth= 2.0)\n",
    "plt.ylim(-0.02, 0.55)\n",
    "plt.xlabel(\"$ \\log_2 p $\")\n",
    "plt.ylabel(\"$ \\overline{e}(1)$\")\n",
    "plt.legend(loc=\"upper right\")"
   ]
  },
  {
   "cell_type": "code",
   "execution_count": 189,
   "metadata": {},
   "outputs": [
    {
     "data": {
      "text/plain": [
       "<matplotlib.legend.Legend at 0x1e0881f9f98>"
      ]
     },
     "execution_count": 189,
     "metadata": {},
     "output_type": "execute_result"
    },
    {
     "data": {
      "image/png": "[encoded data removed]",
      "text/plain": [
       "<matplotlib.figure.Figure at 0x1e088168eb8>"
      ]
     },
     "metadata": {},
     "output_type": "display_data"
    }
   ],
   "source": [
    "plt.plot(pl, (toyex1.T)[4], \"o\", label=\"(a)\", color='black', linestyle='dashed', linewidth= 2.0)\n",
    "plt.plot(pl, (toyex2.T)[4], \"s\", label=\"(b)\", color='blue', linestyle='dashed', linewidth= 2.0)\n",
    "plt.plot(pl, (toyex3.T)[4], \"D\", label=\"(c)\", color='r', linestyle='dotted', linewidth= 2.0)\n",
    "plt.ylim(-0.02, 0.52)\n",
    "plt.xlabel(\"$ \\log_2 p $\")\n",
    "plt.ylabel(\"$ \\overline{e}(2$\")\n",
    "plt.legend(loc=\"upper right\")"
   ]
  },
  {
   "cell_type": "code",
   "execution_count": 192,
   "metadata": {},
   "outputs": [
    {
     "data": {
      "text/plain": [
       "<matplotlib.legend.Legend at 0x1e087e5f470>"
      ]
     },
     "execution_count": 192,
     "metadata": {},
     "output_type": "execute_result"
    },
    {
     "data": {
      "image/png": "[encoded data removed]",
      "text/plain": [
       "<matplotlib.figure.Figure at 0x1e0882bde80>"
      ]
     },
     "metadata": {},
     "output_type": "display_data"
    }
   ],
   "source": [
    "plt.plot(pl, (toyex1.T)[5], \"o\", label=\"(a)\", color='black', linestyle='dashed', linewidth= 2.0)\n",
    "plt.plot(pl, (toyex2.T)[5], \"s\", label=\"(b)\", color='blue', linestyle='dashed', linewidth= 2.0)\n",
    "plt.plot(pl, (toyex3.T)[5], \"D\", label=\"(c)\", color='r', linestyle='dotted', linewidth= 2.0)\n",
    "plt.ylim(-0.02, 0.4)\n",
    "plt.xlabel(\"$ \\log_2 p $\")\n",
    "plt.ylabel(\"$ \\overline{e}$\")\n",
    "plt.legend(loc=\"upper right\")"
   ]
  },
  {
   "cell_type": "code",
   "execution_count": 44,
   "metadata": {},
   "outputs": [
    {
     "name": "stdout",
     "output_type": "stream",
     "text": [
      "5\n",
      "[0.7115, 0.7005, 0.706, 0.683, 0.6775, 0.68025, 0.682, 0.674, 0.678]\n",
      "6\n",
      "[0.78, 0.7745, 0.77725, 0.752, 0.7475, 0.74975, 0.754, 0.747, 0.7505]\n",
      "7\n",
      "[0.8595, 0.8585, 0.859, 0.8455, 0.8355, 0.8405, 0.8485, 0.8365, 0.8425]\n",
      "8\n",
      "[0.936, 0.938, 0.937, 0.926, 0.93, 0.928, 0.926, 0.929, 0.9275]\n",
      "9\n",
      "[0.989, 0.9815, 0.98525, 0.9875, 0.9835, 0.9855, 0.988, 0.9825, 0.98525]\n",
      "10\n",
      "[0.9995, 1.0, 0.99975, 0.9995, 1.0, 0.99975, 0.999, 1.0, 0.9995]\n",
      "11\n",
      "[1.0, 1.0, 1.0, 1.0, 1.0, 1.0, 1.0, 1.0, 1.0]\n"
     ]
    }
   ],
   "source": [
    "clf = SVC(C = float(\"inf\"), kernel='linear')\n",
    "n = [10,10];c = [1,1];\n",
    "y = ([-1]*n[0]) + ([1]*n[1])\n",
    "for q in range(5,12):\n",
    "    print(q)\n",
    "    Y1 = 0; Y2 = 0; Y3 = 0; Y4 = 0; Y5 = 0; Y6 = 0;\n",
    "    p=2**q\n",
    "    #mean vector\n",
    "    mu1 = [0]*p;mu2 = [1/3]*p\n",
    "    mu = [mu1, mu2]\n",
    "    #covariance\n",
    "    Sigma0=[np.eye(p), np.eye(p)];\n",
    "\n",
    "    P= [];Q=[];\n",
    "    for i in range(0,2):\n",
    "        decomposition = np.linalg.eig(Sigma0[i]) \n",
    "        P.append(decomposition[0])\n",
    "        Q.append(decomposition[1])\n",
    "\n",
    "    #iteration\n",
    "    for l in range(2000):\n",
    "        r1 = [];r2 = [];\n",
    "        for j in range(n[0]):\n",
    "            r0 = [];    \n",
    "            for i in range(p):\n",
    "                r0.append(math.sqrt(P[0][i])*randn())\n",
    "            r1.append(np.dot(r0, Q[0]) + mu[0])\n",
    "        for j in range(n[1]):\n",
    "            r0 = [];\n",
    "            for i in range(p):\n",
    "                r0.append(math.sqrt(P[1][i])*randn())\n",
    "            r2.append(np.dot(r0, Q[1]) + mu[1])\n",
    "        np.shape(r1)\n",
    "        r0 = [];\n",
    "        for i in range(p):\n",
    "                r0.append(math.sqrt(P[0][i])*randn())\n",
    "        test1 = np.dot(r0, Q[0]) + mu[0];r0 = [];\n",
    "        for i in range(p):\n",
    "            r0.append(math.sqrt(P[1][i])*randn())\n",
    "        test2 = np.dot(r0, Q[1]) + mu[1];test = [test1, test2];\n",
    "        mean1 = np.mean(r1, axis = 0);mean2 = np.mean(r2, axis = 0)\n",
    "        g1 = np.trace(np.cov(r1, rowvar=0, bias=0));g2 = np.trace(np.cov(r2, rowvar=0,bias=0));\n",
    "        #SVM \n",
    "        r1.extend(r2)\n",
    "        clf.fit(r1, y)\n",
    "        bc = (g1/n[0]-g2/n[1])/((np.linalg.norm(mean1-mean2))**2)\n",
    "        #prediction\n",
    "        if np.dot(test1 - (mean1 + mean2)/2, mean2-mean1)-g1/2/n[0]+g2/2/n[1]<0:\n",
    "            Y1 = Y1 +1\n",
    "        else:\n",
    "            Y1 = Y1 +0\n",
    "        if np.dot(test2 - (mean1 + mean2)/2, mean2-mean1)-g1/2/n[0]+g2/2/n[1]>0:\n",
    "            Y2 = Y2 + 1\n",
    "        else:\n",
    "            Y2 = Y2 + 0\n",
    "        if clf.predict([test1])<0:\n",
    "            Y3 = Y3 +1\n",
    "        else:\n",
    "            Y3 = Y3 +0\n",
    "        if clf.predict([test2])>0:\n",
    "            Y4 = Y4 + 1\n",
    "        else:\n",
    "            Y4 = Y4 + 0\n",
    "        if clf.decision_function([test1])-bc<0:\n",
    "            Y5 = Y5 +1\n",
    "        else:\n",
    "            Y5 = Y5 +0\n",
    "        if clf.decision_function([test2])-bc>0:\n",
    "            Y6 = Y6 + 1\n",
    "        else:\n",
    "            Y6 = Y6 + 0\n",
    "    print([Y1/2000, Y2/2000, (Y1+Y2)/4000, Y3/2000, Y4/2000, (Y3+Y4)/4000, Y5/2000, Y6/2000, (Y5+Y6)/4000])"
   ]
  },
  {
   "cell_type": "code",
   "execution_count": 45,
   "metadata": {},
   "outputs": [
    {
     "name": "stdout",
     "output_type": "stream",
     "text": [
      "5\n",
      "[0.7025, 0.691, 0.69675, 0.475, 0.82, 0.6475, 0.6185, 0.7165, 0.6675]\n",
      "6\n",
      "[0.753, 0.77, 0.7615, 0.514, 0.8975, 0.70575, 0.7075, 0.761, 0.73425]\n",
      "7\n",
      "[0.8445, 0.8425, 0.8435, 0.551, 0.9655, 0.75825, 0.833, 0.8335, 0.83325]\n",
      "8\n",
      "[0.919, 0.9245, 0.92175, 0.57, 0.999, 0.7845, 0.9175, 0.916, 0.91675]\n",
      "9\n",
      "[0.9755, 0.9815, 0.9785, 0.623, 1.0, 0.8115, 0.975, 0.9815, 0.97825]\n",
      "10\n",
      "[0.998, 0.9995, 0.99875, 0.666, 1.0, 0.833, 0.998, 0.9995, 0.99875]\n",
      "11\n",
      "[1.0, 1.0, 1.0, 0.698, 1.0, 0.849, 1.0, 1.0, 1.0]\n"
     ]
    }
   ],
   "source": [
    "clf = SVC(C = float(\"inf\"), kernel='linear')\n",
    "n = [6,14];c = [1,1];\n",
    "y = ([-1]*n[0]) + ([1]*n[1])\n",
    "for q in range(5,12):\n",
    "    print(q)\n",
    "    Y1 = 0; Y2 = 0; Y3 = 0; Y4 = 0; Y5 = 0; Y6 = 0;\n",
    "    p=2**q\n",
    "    #mean vector\n",
    "    mu1 = [0]*p;mu2 = [1/3]*p\n",
    "    mu = [mu1, mu2]\n",
    "    #covariance\n",
    "    Sigma0=[np.eye(p), np.eye(p)];\n",
    "\n",
    "    P= [];Q=[];\n",
    "    for i in range(0,2):\n",
    "        decomposition = np.linalg.eig(Sigma0[i]) \n",
    "        P.append(decomposition[0])\n",
    "        Q.append(decomposition[1])\n",
    "\n",
    "    #iteration\n",
    "    for l in range(2000):\n",
    "        r1 = [];r2 = [];\n",
    "        for j in range(n[0]):\n",
    "            r0 = [];    \n",
    "            for i in range(p):\n",
    "                r0.append(math.sqrt(P[0][i])*randn())\n",
    "            r1.append(np.dot(r0, Q[0]) + mu[0])\n",
    "        for j in range(n[1]):\n",
    "            r0 = [];\n",
    "            for i in range(p):\n",
    "                r0.append(math.sqrt(P[1][i])*randn())\n",
    "            r2.append(np.dot(r0, Q[1]) + mu[1])\n",
    "        np.shape(r1)\n",
    "        r0 = [];\n",
    "        for i in range(p):\n",
    "                r0.append(math.sqrt(P[0][i])*randn())\n",
    "        test1 = np.dot(r0, Q[0]) + mu[0];r0 = [];\n",
    "        for i in range(p):\n",
    "            r0.append(math.sqrt(P[1][i])*randn())\n",
    "        test2 = np.dot(r0, Q[1]) + mu[1];test = [test1, test2];\n",
    "        mean1 = np.mean(r1, axis = 0);mean2 = np.mean(r2, axis = 0)\n",
    "        g1 = np.trace(np.cov(r1, rowvar=0, bias=0));g2 = np.trace(np.cov(r2, rowvar=0,bias=0));\n",
    "        #SVM \n",
    "        r1.extend(r2)\n",
    "        clf.fit(r1, y)\n",
    "        bc = (g1/n[0]-g2/n[1])/((np.linalg.norm(mean1-mean2))**2)\n",
    "        #prediction\n",
    "        if np.dot(test1 - (mean1 + mean2)/2, mean2-mean1)-g1/2/n[0]+g2/2/n[1]<0:\n",
    "            Y1 = Y1 +1\n",
    "        else:\n",
    "            Y1 = Y1 +0\n",
    "        if np.dot(test2 - (mean1 + mean2)/2, mean2-mean1)-g1/2/n[0]+g2/2/n[1]>0:\n",
    "            Y2 = Y2 + 1\n",
    "        else:\n",
    "            Y2 = Y2 + 0\n",
    "        if clf.predict([test1])<0:\n",
    "            Y3 = Y3 +1\n",
    "        else:\n",
    "            Y3 = Y3 +0\n",
    "        if clf.predict([test2])>0:\n",
    "            Y4 = Y4 + 1\n",
    "        else:\n",
    "            Y4 = Y4 + 0\n",
    "        if clf.decision_function([test1])-bc<0:\n",
    "            Y5 = Y5 +1\n",
    "        else:\n",
    "            Y5 = Y5 +0\n",
    "        if clf.decision_function([test2])-bc>0:\n",
    "            Y6 = Y6 + 1\n",
    "        else:\n",
    "            Y6 = Y6 + 0\n",
    "    print([Y1/2000, Y2/2000, (Y1+Y2)/4000, Y3/2000, Y4/2000, (Y3+Y4)/4000, Y5/2000, Y6/2000, (Y5+Y6)/4000])"
   ]
  },
  {
   "cell_type": "code",
   "execution_count": 47,
   "metadata": {},
   "outputs": [
    {
     "name": "stdout",
     "output_type": "stream",
     "text": [
      "5\n",
      "[0.7455, 0.6725, 0.709, 0.8375, 0.5405, 0.689, 0.731, 0.6335, 0.68225]\n",
      "6\n",
      "[0.8145, 0.7555, 0.785, 0.932, 0.556, 0.744, 0.811, 0.7105, 0.76075]\n",
      "7\n",
      "[0.9135, 0.8215, 0.8675, 0.988, 0.5705, 0.77925, 0.9125, 0.8055, 0.859]\n",
      "8\n",
      "[0.973, 0.9055, 0.93925, 0.9995, 0.64, 0.81975, 0.9725, 0.892, 0.93225]\n",
      "9\n",
      "[0.9975, 0.9645, 0.981, 1.0, 0.7005, 0.85025, 0.9965, 0.964, 0.98025]\n",
      "10\n",
      "[1.0, 0.996, 0.998, 1.0, 0.781, 0.8905, 1.0, 0.9955, 0.99775]\n",
      "11\n",
      "[1.0, 1.0, 1.0, 1.0, 0.857, 0.9285, 1.0, 1.0, 1.0]\n"
     ]
    }
   ],
   "source": [
    "clf = SVC(C = float(\"inf\"), kernel='linear')\n",
    "n = [10,10];c = [1,1];\n",
    "y = ([-1]*n[0]) + ([1]*n[1])\n",
    "for q in range(5,12):\n",
    "    Y1 = 0; Y2 = 0; Y3 = 0; Y4 = 0; Y5 = 0; Y6 = 0;\n",
    "    p=2**q\n",
    "    #mean vector\n",
    "    mu1 = [0]*p;mu2 = [1/3]*p\n",
    "    mu = [mu1, mu2]\n",
    "    #covariance\n",
    "    Sigma0=[0.6 * np.eye(p), 1.4 * np.eye(p)];\n",
    "\n",
    "    P= [];Q=[];\n",
    "    for i in range(0,2):\n",
    "        decomposition = np.linalg.eig(Sigma0[i]) \n",
    "        P.append(decomposition[0])\n",
    "        Q.append(decomposition[1])\n",
    "\n",
    "    #iteration\n",
    "    for l in range(2000):\n",
    "        r1 = [];r2 = [];\n",
    "        for j in range(n[0]):\n",
    "            r0 = [];    \n",
    "            for i in range(p):\n",
    "                r0.append(math.sqrt(P[0][i])*randn())\n",
    "            r1.append(np.dot(r0, Q[0]) + mu[0])\n",
    "        for j in range(n[1]):\n",
    "            r0 = [];\n",
    "            for i in range(p):\n",
    "                r0.append(math.sqrt(P[1][i])*randn())\n",
    "            r2.append(np.dot(r0, Q[1]) + mu[1])\n",
    "        np.shape(r1)\n",
    "        r0 = [];\n",
    "        for i in range(p):\n",
    "                r0.append(math.sqrt(P[0][i])*randn())\n",
    "        test1 = np.dot(r0, Q[0]) + mu[0];r0 = [];\n",
    "        for i in range(p):\n",
    "            r0.append(math.sqrt(P[1][i])*randn())\n",
    "        test2 = np.dot(r0, Q[1]) + mu[1];test = [test1, test2];\n",
    "        mean1 = np.mean(r1, axis = 0);mean2 = np.mean(r2, axis = 0)\n",
    "        g1 = np.trace(np.cov(r1, rowvar=0, bias=0));g2 = np.trace(np.cov(r2, rowvar=0,bias=0));\n",
    "        #SVM \n",
    "        r1.extend(r2)\n",
    "        clf.fit(r1, y)\n",
    "        bc = (g1/n[0]-g2/n[1])/((np.linalg.norm(mean1-mean2))**2)\n",
    "        #prediction\n",
    "        if np.dot(test1 - (mean1 + mean2)/2, mean2-mean1)-g1/2/n[0]+g2/2/n[1]<0:\n",
    "            Y1 = Y1 +1\n",
    "        else:\n",
    "            Y1 = Y1 +0\n",
    "        if np.dot(test2 - (mean1 + mean2)/2, mean2-mean1)-g1/2/n[0]+g2/2/n[1]>0:\n",
    "            Y2 = Y2 + 1\n",
    "        else:\n",
    "            Y2 = Y2 + 0\n",
    "        if clf.predict([test1])<0:\n",
    "            Y3 = Y3 +1\n",
    "        else:\n",
    "            Y3 = Y3 +0\n",
    "        if clf.predict([test2])>0:\n",
    "            Y4 = Y4 + 1\n",
    "        else:\n",
    "            Y4 = Y4 + 0\n",
    "        if clf.decision_function([test1])-bc<0:\n",
    "            Y5 = Y5 +1\n",
    "        else:\n",
    "            Y5 = Y5 +0\n",
    "        if clf.decision_function([test2])-bc>0:\n",
    "            Y6 = Y6 + 1\n",
    "        else:\n",
    "            Y6 = Y6 + 0\n",
    "    print(q)\n",
    "    print([Y1/2000, Y2/2000, (Y1+Y2)/4000, Y3/2000, Y4/2000, (Y3+Y4)/4000, Y5/2000, Y6/2000, (Y5+Y6)/4000])"
   ]
  },
  {
   "cell_type": "code",
   "execution_count": 197,
   "metadata": {},
   "outputs": [
    {
     "data": {
      "text/plain": [
       "(20, 1024)"
      ]
     },
     "execution_count": 197,
     "metadata": {},
     "output_type": "execute_result"
    }
   ],
   "source": [
    "np.shape(clf.support_vectors_)"
   ]
  },
  {
   "cell_type": "code",
   "execution_count": 218,
   "metadata": {},
   "outputs": [
    {
     "data": {
      "text/plain": [
       "array([-1.25466886])"
      ]
     },
     "execution_count": 218,
     "metadata": {},
     "output_type": "execute_result"
    }
   ],
   "source": [
    "clf.decision_function([test1])-bc"
   ]
  },
  {
   "cell_type": "code",
   "execution_count": 15,
   "metadata": {
    "collapsed": true
   },
   "outputs": [],
   "source": [
    "toyex1 = [[1]*6]*7-np.array([[0.6635, 0.64, 0.65175, 0.616, 0.6155, 0.61575],\n",
    "          [0.7055, 0.6965, 0.701, 0.6705, 0.668, 0.66925],\n",
    "          [0.779, 0.7875, 0.78325, 0.755, 0.738, 0.7465],\n",
    "          [0.8565, 0.8655, 0.861, 0.8335, 0.854, 0.84375],\n",
    "          [0.93, 0.935, 0.9325, 0.9245, 0.929, 0.92675],\n",
    "          [0.9845, 0.9935, 0.989, 0.9805, 0.989, 0.98475],\n",
    "          [1.0, 0.9985, 0.99925, 0.999, 0.998, 0.9985]])\n",
    "toyex2 = [[1]*6]*7-np.array([\n",
    "    [0.525, 0.759, 0.642, 0.477, 0.733, 0.605],\n",
    "    [0.5295, 0.8235, 0.6765, 0.495, 0.7955, 0.64525],\n",
    "    [0.5335, 0.9035, 0.7185, 0.5135, 0.8945, 0.704],\n",
    "    [0.5545, 0.975, 0.76475, 0.5365, 0.9685, 0.7525],\n",
    "    [0.575, 0.9975, 0.78625, 0.5675, 0.9965, 0.782],\n",
    "    [0.6295, 1.0, 0.81475, 0.6205, 1.0, 0.81025],\n",
    "    [0.6755, 1.0, 0.83775, 0.6665, 1.0, 0.83325]\n",
    "    ])\n",
    "toyex3 = [[1]*6]*7-np.array([\n",
    "    [0.7385, 0.615, 0.67675, 0.7385, 0.5205, 0.6295],\n",
    "    [0.8375, 0.584, 0.71075, 0.826, 0.528, 0.677],\n",
    "    [0.9435, 0.6105, 0.777, 0.9385, 0.56, 0.74925],\n",
    "    [0.993, 0.6105, 0.80175, 0.99, 0.5775, 0.78375],\n",
    "    [0.9995, 0.6465, 0.823, 0.999, 0.635, 0.817],\n",
    "    [1.0, 0.708, 0.854, 1.0, 0.6915, 0.84575],\n",
    "    [1.0, 0.77, 0.885, 1.0, 0.7625, 0.88125]])\n",
    "toyex4 = [[1]*9]*7-np.array([\n",
    "    [0.7115, 0.7005, 0.706, 0.683, 0.6775, 0.68025, 0.682, 0.674, 0.678],\n",
    "    [0.78, 0.7745, 0.77725, 0.752, 0.7475, 0.74975, 0.754, 0.747, 0.7505],\n",
    "    [0.8595, 0.8585, 0.859, 0.8455, 0.8355, 0.8405, 0.8485, 0.8365, 0.8425],\n",
    "    [0.936, 0.938, 0.937, 0.926, 0.93, 0.928, 0.926, 0.929, 0.9275],\n",
    "    [0.989, 0.9815, 0.98525, 0.9875, 0.9835, 0.9855, 0.988, 0.9825, 0.98525],\n",
    "    [0.9995, 1.0, 0.99975, 0.9995, 1.0, 0.99975, 0.999, 1.0, 0.9995],\n",
    "    [1.0, 1.0, 1.0, 1.0, 1.0, 1.0, 1.0, 1.0, 1.0]])\n",
    "toyex5 = [[1]*9]*7-np.array([\n",
    "    [0.7025, 0.691, 0.69675, 0.475, 0.82, 0.6475, 0.6185, 0.7165, 0.6675],\n",
    "    [0.753, 0.77, 0.7615, 0.514, 0.8975, 0.70575, 0.7075, 0.761, 0.73425],\n",
    "    [0.8445, 0.8425, 0.8435, 0.551, 0.9655, 0.75825, 0.833, 0.8335, 0.83325],\n",
    "    [0.919, 0.9245, 0.92175, 0.57, 0.999, 0.7845, 0.9175, 0.916, 0.91675],\n",
    "    [0.9755, 0.9815, 0.9785, 0.623, 1.0, 0.8115, 0.975, 0.9815, 0.97825],\n",
    "    [0.998, 0.9995, 0.99875, 0.666, 1.0, 0.833, 0.998, 0.9995, 0.99875],\n",
    "    [1.0, 1.0, 1.0, 0.698, 1.0, 0.849, 1.0, 1.0, 1.0]])\n",
    "toyex6 = [[1]*9]*7-np.array([\n",
    "    [0.7455, 0.6725, 0.709, 0.8375, 0.5405, 0.689, 0.731, 0.6335, 0.68225],\n",
    "    [0.8145, 0.7555, 0.785, 0.932, 0.556, 0.744, 0.811, 0.7105, 0.76075],\n",
    "    [0.9135, 0.8215, 0.8675, 0.988, 0.5705, 0.77925, 0.9125, 0.8055, 0.859],\n",
    "    [0.973, 0.9055, 0.93925, 0.9995, 0.64, 0.81975, 0.9725, 0.892, 0.93225],\n",
    "    [0.9975, 0.9645, 0.981, 1.0, 0.7005, 0.85025, 0.9965, 0.964, 0.98025],\n",
    "    [1.0, 0.996, 0.998, 1.0, 0.781, 0.8905, 1.0, 0.9955, 0.99775],\n",
    "    [1.0, 1.0, 1.0, 1.0, 0.857, 0.9285, 1.0, 1.0, 1.0]\n",
    "])"
   ]
  },
  {
   "cell_type": "code",
   "execution_count": 60,
   "metadata": {},
   "outputs": [
    {
     "data": {
      "text/plain": [
       "<matplotlib.legend.Legend at 0x1e4c1a5ee10>"
      ]
     },
     "execution_count": 60,
     "metadata": {},
     "output_type": "execute_result"
    },
    {
     "data": {
      "image/png": "[encoded data removed]",
      "text/plain": [
       "<matplotlib.figure.Figure at 0x1e4c09e9668>"
      ]
     },
     "metadata": {},
     "output_type": "display_data"
    }
   ],
   "source": [
    "plt.plot(pl, (toyex4.T)[6], \"o\", label=\"BC-SVM\", color='black', linestyle='dashed', linewidth= 2.0)\n",
    "plt.plot(pl, (toyex4.T)[3], \"s\", label=\"SVM\", color='blue', linestyle='dashed', linewidth= 2.0)\n",
    "plt.ylim(-0.02, 0.42)\n",
    "plt.xlabel(\"$ \\log_2 p $\")\n",
    "plt.ylabel(\"$ \\overline{e}(1)$\")\n",
    "plt.legend(loc=\"upper right\")"
   ]
  },
  {
   "cell_type": "code",
   "execution_count": 61,
   "metadata": {},
   "outputs": [
    {
     "data": {
      "text/plain": [
       "<matplotlib.legend.Legend at 0x1e4c1ada9b0>"
      ]
     },
     "execution_count": 61,
     "metadata": {},
     "output_type": "execute_result"
    },
    {
     "data": {
      "image/png": "[encoded data removed]",
      "text/plain": [
       "<matplotlib.figure.Figure at 0x1e4c1a4a390>"
      ]
     },
     "metadata": {},
     "output_type": "display_data"
    }
   ],
   "source": [
    "plt.plot(pl, (toyex4.T)[7], \"o\", label=\"BC-SVM\", color='black', linestyle='dashed', linewidth= 2.0)\n",
    "plt.plot(pl, (toyex4.T)[4], \"s\", label=\"SVM\", color='blue', linestyle='dashed', linewidth= 2.0)\n",
    "plt.ylim(-0.02, 0.42)\n",
    "plt.xlabel(\"$ \\log_2 p $\")\n",
    "plt.ylabel(\"$ \\overline{e}(2)$\")\n",
    "plt.legend(loc=\"upper right\")"
   ]
  },
  {
   "cell_type": "code",
   "execution_count": null,
   "metadata": {
    "collapsed": true
   },
   "outputs": [],
   "source": []
  },
  {
   "cell_type": "code",
   "execution_count": 62,
   "metadata": {},
   "outputs": [
    {
     "data": {
      "text/plain": [
       "<matplotlib.legend.Legend at 0x1e4c1b4ce48>"
      ]
     },
     "execution_count": 62,
     "metadata": {},
     "output_type": "execute_result"
    },
    {
     "data": {
      "image/png": "[encoded data removed]",
      "text/plain": [
       "<matplotlib.figure.Figure at 0x1e4c1ab0198>"
      ]
     },
     "metadata": {},
     "output_type": "display_data"
    }
   ],
   "source": [
    "plt.plot(pl, (toyex4.T)[8], \"o\", label=\"BC-SVM\", color='black', linestyle='dashed', linewidth= 2.0)\n",
    "plt.plot(pl, (toyex4.T)[5], \"s\", label=\"SVM\", color='blue', linestyle='dashed', linewidth= 2.0)\n",
    "plt.ylim(-0.02, 0.42)\n",
    "plt.xlabel(\"$ \\log_2 p $\")\n",
    "plt.ylabel(\"$ \\overline{e}(2)$\")\n",
    "plt.legend(loc=\"upper right\")"
   ]
  },
  {
   "cell_type": "code",
   "execution_count": 63,
   "metadata": {},
   "outputs": [
    {
     "data": {
      "text/plain": [
       "<matplotlib.legend.Legend at 0x1e4c1bc8978>"
      ]
     },
     "execution_count": 63,
     "metadata": {},
     "output_type": "execute_result"
    },
    {
     "data": {
      "image/png": "[encoded data removed]",
      "text/plain": [
       "<matplotlib.figure.Figure at 0x1e4c1b38390>"
      ]
     },
     "metadata": {},
     "output_type": "display_data"
    }
   ],
   "source": [
    "plt.plot(pl, (toyex5.T)[6], \"o\", label=\"BC-SVM\", color='black', linestyle='-', linewidth= 2.0)\n",
    "plt.plot(pl, (toyex5.T)[3], \"s\", label=\"SVM\", color='blue', linestyle='--', linewidth= 2.0)\n",
    "plt.ylim(-0.004, 0.54)\n",
    "plt.xlabel(\"$ \\log_2 p $\")\n",
    "plt.ylabel(\"$ \\overline{e}(1)$\")\n",
    "plt.legend(loc=\"upper right\")"
   ]
  },
  {
   "cell_type": "code",
   "execution_count": 64,
   "metadata": {},
   "outputs": [
    {
     "data": {
      "text/plain": [
       "<matplotlib.legend.Legend at 0x1e4c1c35f60>"
      ]
     },
     "execution_count": 64,
     "metadata": {},
     "output_type": "execute_result"
    },
    {
     "data": {
      "image/png": "[encoded data removed]",
      "text/plain": [
       "<matplotlib.figure.Figure at 0x1e4c1ba7748>"
      ]
     },
     "metadata": {},
     "output_type": "display_data"
    }
   ],
   "source": [
    "plt.plot(pl, (toyex5.T)[6], \"o\", label=\"BC-SVM\", color='black', linestyle='-', linewidth= 2.0)\n",
    "plt.plot(pl, (toyex5.T)[3], \"s\", label=\"SVM\", color='blue', linestyle='--', linewidth= 2.0)\n",
    "plt.ylim(-0.004, 0.54)\n",
    "plt.xlabel(\"$ \\log_2 p $\")\n",
    "plt.ylabel(\"$ \\overline{e}(1)$\")\n",
    "plt.legend(loc=\"upper right\")"
   ]
  },
  {
   "cell_type": "code",
   "execution_count": 65,
   "metadata": {},
   "outputs": [
    {
     "data": {
      "text/plain": [
       "<matplotlib.legend.Legend at 0x1e4c1ca8c18>"
      ]
     },
     "execution_count": 65,
     "metadata": {},
     "output_type": "execute_result"
    },
    {
     "data": {
      "image/png": "[encoded data removed]",
      "text/plain": [
       "<matplotlib.figure.Figure at 0x1e4c1c1ffd0>"
      ]
     },
     "metadata": {},
     "output_type": "display_data"
    }
   ],
   "source": [
    "plt.plot(pl, (toyex5.T)[7], \"o\", label=\"BC-SVM\", color='black', linestyle='-', linewidth= 2.0)\n",
    "plt.plot(pl, (toyex5.T)[4], \"s\", label=\"SVM\", color='blue', linestyle='--', linewidth= 2.0)\n",
    "plt.ylim(-0.004, 0.41)\n",
    "plt.xlabel(\"$ \\log_2 p $\")\n",
    "plt.ylabel(\"$ \\overline{e}(2)$\")\n",
    "plt.legend(loc=\"upper right\")"
   ]
  },
  {
   "cell_type": "code",
   "execution_count": 66,
   "metadata": {},
   "outputs": [
    {
     "data": {
      "text/plain": [
       "<matplotlib.legend.Legend at 0x1e4c1d18d68>"
      ]
     },
     "execution_count": 66,
     "metadata": {},
     "output_type": "execute_result"
    },
    {
     "data": {
      "image/png": "[encoded data removed]",
      "text/plain": [
       "<matplotlib.figure.Figure at 0x1e4c1c847b8>"
      ]
     },
     "metadata": {},
     "output_type": "display_data"
    }
   ],
   "source": [
    "plt.plot(pl, (toyex5.T)[8], \"o\", label=\"BC-SVM\", color='black', linestyle='-', linewidth= 2.0)\n",
    "plt.plot(pl, (toyex5.T)[5], \"s\", label=\"SVM\", color='blue', linestyle='--', linewidth= 2.0)\n",
    "plt.ylim(-0.004, 0.41)\n",
    "plt.xlabel(\"$ \\log_2 p $\")\n",
    "plt.ylabel(\"$ \\overline{e}$\")\n",
    "plt.legend(loc=\"upper right\")"
   ]
  },
  {
   "cell_type": "code",
   "execution_count": 67,
   "metadata": {},
   "outputs": [
    {
     "data": {
      "text/plain": [
       "<matplotlib.legend.Legend at 0x1e4c1d94b00>"
      ]
     },
     "execution_count": 67,
     "metadata": {},
     "output_type": "execute_result"
    },
    {
     "data": {
      "image/png": "[encoded data removed]",
      "text/plain": [
       "<matplotlib.figure.Figure at 0x1e4c1d4a630>"
      ]
     },
     "metadata": {},
     "output_type": "display_data"
    }
   ],
   "source": [
    "plt.plot(pl, (toyex6.T)[6], \"o\", label=\"BC-SVM\", color='black', linestyle='-', linewidth= 2.0)\n",
    "plt.plot(pl, (toyex6.T)[3], \"s\", label=\"SVM\", color='blue', linestyle='--', linewidth= 2.0)\n",
    "plt.ylim(-0.004, 0.41)\n",
    "plt.xlabel(\"$ \\log_2 p $\")\n",
    "plt.ylabel(\"$ \\overline{e}(1$\")\n",
    "plt.legend(loc=\"upper right\")"
   ]
  },
  {
   "cell_type": "code",
   "execution_count": 68,
   "metadata": {},
   "outputs": [
    {
     "data": {
      "text/plain": [
       "<matplotlib.legend.Legend at 0x1e4c1e0d4e0>"
      ]
     },
     "execution_count": 68,
     "metadata": {},
     "output_type": "execute_result"
    },
    {
     "data": {
      "image/png": "[encoded data removed]",
      "text/plain": [
       "<matplotlib.figure.Figure at 0x1e4c1d70978>"
      ]
     },
     "metadata": {},
     "output_type": "display_data"
    }
   ],
   "source": [
    "plt.plot(pl, (toyex6.T)[7], \"o\", label=\"BC-SVM\", color='black', linestyle='-', linewidth= 2.0)\n",
    "plt.plot(pl, (toyex6.T)[4], \"s\", label=\"SVM\", color='blue', linestyle='--', linewidth= 2.0)\n",
    "plt.ylim(-0.004, 0.51)\n",
    "plt.xlabel(\"$ \\log_2 p $\")\n",
    "plt.ylabel(\"$ \\overline{e}(1$\")\n",
    "plt.legend(loc=\"upper right\")"
   ]
  },
  {
   "cell_type": "code",
   "execution_count": 69,
   "metadata": {},
   "outputs": [
    {
     "data": {
      "text/plain": [
       "<matplotlib.legend.Legend at 0x1e4c1e77cf8>"
      ]
     },
     "execution_count": 69,
     "metadata": {},
     "output_type": "execute_result"
    },
    {
     "data": {
      "image/png": "[encoded data removed]",
      "text/plain": [
       "<matplotlib.figure.Figure at 0x1e4c1debbe0>"
      ]
     },
     "metadata": {},
     "output_type": "display_data"
    }
   ],
   "source": [
    "plt.plot(pl, (toyex6.T)[8], \"o\", label=\"BC-SVM\", color='black', linestyle='-', linewidth= 2.0)\n",
    "plt.plot(pl, (toyex6.T)[5], \"s\", label=\"SVM\", color='blue', linestyle='--', linewidth= 2.0)\n",
    "plt.ylim(-0.004, 0.41)\n",
    "plt.xlabel(\"$ \\log_2 p $\")\n",
    "plt.ylabel(\"$ \\overline{e}(1$\")\n",
    "plt.legend(loc=\"upper right\")"
   ]
  },
  {
   "cell_type": "code",
   "execution_count": 70,
   "metadata": {},
   "outputs": [
    {
     "name": "stdout",
     "output_type": "stream",
     "text": [
      "6\n",
      "[0.847, 0.805, 0.826, 0.5265, 0.976, 0.75125, 0.766, 0.906, 0.836]\n",
      "7\n",
      "[0.8685, 0.848, 0.85825, 0.4635, 0.994, 0.72875, 0.797, 0.9105, 0.85375]\n",
      "8\n",
      "[0.9035, 0.8715, 0.8875, 0.391, 0.9955, 0.69325, 0.8475, 0.9255, 0.8865]\n",
      "9\n",
      "[0.9205, 0.8705, 0.8955, 0.233, 0.9995, 0.61625, 0.89, 0.9135, 0.90175]\n",
      "10\n",
      "[0.942, 0.8985, 0.92025, 0.0905, 1.0, 0.54525, 0.9275, 0.93, 0.92875]\n",
      "11\n",
      "[0.9705, 0.9465, 0.9585, 0.014, 1.0, 0.507, 0.9585, 0.951, 0.95475]\n",
      "12\n",
      "[0.983, 0.966, 0.9745, 0.0005, 1.0, 0.50025, 0.98, 0.9685, 0.97425]\n"
     ]
    }
   ],
   "source": [
    "#case (d)\n",
    "clf = SVC(C = float(\"inf\"), kernel='linear')\n",
    "n = [5,25];c = [1,1];\n",
    "y = ([-1]*n[0]) + ([1]*n[1])\n",
    "for q in range(6,13):\n",
    "    print(q)\n",
    "    Y1 = 0; Y2 = 0; Y3 = 0; Y4 = 0; Y5 = 0; Y6 = 0;\n",
    "    p=2**q\n",
    "    #mean vector\n",
    "    t = 2*math.ceil((p ** (2/3))/2)\n",
    "    mu1 = [0]*p; mu2=np.zeros(p);\n",
    "    for i in range(0,t//2):\n",
    "        mu2[i] = 1\n",
    "    for i in range(p-t//2,p):\n",
    "        mu2[i] = -1\n",
    "    mu = [mu1, mu2]\n",
    "    #covariance\n",
    "    B = [];\n",
    "    for i in range(1,p+1):\n",
    "        B.append(0.5+i/(p+1))\n",
    "    B1 = np.zeros((p,p));B2 = np.zeros((p,p));\n",
    "    for i in range(0,p):\n",
    "        for j in range(0,p):\n",
    "            B1[i,j] = 0.3**(abs(i-j)**(1/3))\n",
    "            B2[i,j] = 0.4**(abs(i-j)**(1/3))\n",
    "    Sigma1 = np.dot(np.diag(B), B1, np.diag(B))\n",
    "    Sigma2 = np.dot(np.diag(B), B2, np.diag(B))\n",
    "    Sigma0=[Sigma1, Sigma2];\n",
    "    \n",
    "    P= [];Q=[];\n",
    "    for i in range(0,2):\n",
    "        decomposition = np.linalg.eig(Sigma0[i]) \n",
    "        P.append(decomposition[0])\n",
    "        Q.append(decomposition[1])\n",
    "\n",
    "    #iteration\n",
    "    for l in range(2000):\n",
    "        r1 = [];r2 = [];\n",
    "        for j in range(n[0]):\n",
    "            r0 = [];    \n",
    "            for i in range(p):\n",
    "                r0.append(math.sqrt(P[0][i])*randn())\n",
    "            r1.append(np.dot(Q[0], r0) + mu[0])\n",
    "        for j in range(n[1]):\n",
    "            r0 = [];\n",
    "            for i in range(p):\n",
    "                r0.append(math.sqrt(P[1][i])*randn())\n",
    "            r2.append(np.dot(Q[1], r0) + mu[1])\n",
    "        np.shape(r1)\n",
    "        r0 = [];\n",
    "        for i in range(p):\n",
    "                r0.append(math.sqrt(P[0][i])*randn())\n",
    "        test1 = np.dot(Q[0], r0) + mu[0];r0 = [];\n",
    "        for i in range(p):\n",
    "            r0.append(math.sqrt(P[1][i])*randn())\n",
    "        test2 = np.dot(Q[1], r0) + mu[1];test = [test1, test2];\n",
    "        mean1 = np.mean(r1, axis = 0);mean2 = np.mean(r2, axis = 0)\n",
    "        g1 = np.trace(np.cov(r1, rowvar=0, bias=0));g2 = np.trace(np.cov(r2, rowvar=0,bias=0));\n",
    "        #SVM \n",
    "        r1.extend(r2)\n",
    "        clf.fit(r1, y)\n",
    "        bc = (g1/n[0]-g2/n[1])/((np.linalg.norm(mean1-mean2))**2)\n",
    "        #prediction\n",
    "        if np.dot(test1 - (mean1 + mean2)/2, mean2-mean1)-g1/2/n[0]+g2/2/n[1]<0:\n",
    "            Y1 = Y1 +1\n",
    "        else:\n",
    "            Y1 = Y1 +0\n",
    "        if np.dot(test2 - (mean1 + mean2)/2, mean2-mean1)-g1/2/n[0]+g2/2/n[1]>0:\n",
    "            Y2 = Y2 + 1\n",
    "        else:\n",
    "            Y2 = Y2 + 0\n",
    "        if clf.predict([test1])<0:\n",
    "            Y3 = Y3 +1\n",
    "        else:\n",
    "            Y3 = Y3 +0\n",
    "        if clf.predict([test2])>0:\n",
    "            Y4 = Y4 + 1\n",
    "        else:\n",
    "            Y4 = Y4 + 0\n",
    "        if clf.decision_function([test1])-bc<0:\n",
    "            Y5 = Y5 +1\n",
    "        else:\n",
    "            Y5 = Y5 +0\n",
    "        if clf.decision_function([test2])-bc>0:\n",
    "            Y6 = Y6 + 1\n",
    "        else:\n",
    "            Y6 = Y6 + 0\n",
    "    print([Y1/2000, Y2/2000, (Y1+Y2)/4000, Y3/2000, Y4/2000, (Y3+Y4)/4000, Y5/2000, Y6/2000, (Y5+Y6)/4000])"
   ]
  },
  {
   "cell_type": "code",
   "execution_count": 86,
   "metadata": {
    "collapsed": true
   },
   "outputs": [],
   "source": [
    "pl = np.arange(6,13,1)\n",
    "toyex = [[1]*9]*7-np.array([\n",
    "    [0.847, 0.805, 0.826, 0.5265, 0.976, 0.75125, 0.766, 0.906, 0.836],\n",
    "    [0.8685, 0.848, 0.85825, 0.4635, 0.994, 0.72875, 0.797, 0.9105, 0.85375],\n",
    "    [0.9035, 0.8715, 0.8875, 0.391, 0.9955, 0.69325, 0.8475, 0.9255, 0.8865],\n",
    "    [0.9205, 0.8705, 0.8955, 0.233, 0.9995, 0.61625, 0.89, 0.9135, 0.90175],\n",
    "    [0.942, 0.8985, 0.92025, 0.0905, 1.0, 0.54525, 0.9275, 0.93, 0.92875],\n",
    "    [0.9705, 0.9465, 0.9585, 0.014, 1.0, 0.507, 0.9585, 0.951, 0.95475],\n",
    "    [0.983, 0.966, 0.9745, 0.0005, 1.0, 0.50025, 0.98, 0.9685, 0.97425]\n",
    "])"
   ]
  },
  {
   "cell_type": "code",
   "execution_count": 91,
   "metadata": {},
   "outputs": [
    {
     "data": {
      "text/plain": [
       "<matplotlib.legend.Legend at 0x1e482aef6d8>"
      ]
     },
     "execution_count": 91,
     "metadata": {},
     "output_type": "execute_result"
    },
    {
     "data": {
      "image/png": "[encoded data removed]",
      "text/plain": [
       "<matplotlib.figure.Figure at 0x1e4c03b6438>"
      ]
     },
     "metadata": {},
     "output_type": "display_data"
    }
   ],
   "source": [
    "plt.plot(pl, (toyex.T)[6], \"o\", label=\"BC-SVM\", color='black', linestyle='-', linewidth= 2.0)\n",
    "plt.plot(pl, (toyex.T)[3], \"s\", label=\"SVM\", color='blue', linestyle='--', linewidth= 2.0)\n",
    "plt.ylim(-0.02, 1.02)\n",
    "plt.xlabel(\"$ \\log_2 p $\")\n",
    "plt.ylabel(\"$ \\overline{e}(1)$\")\n",
    "plt.legend(loc=\"right\")"
   ]
  },
  {
   "cell_type": "code",
   "execution_count": 92,
   "metadata": {},
   "outputs": [
    {
     "data": {
      "text/plain": [
       "<matplotlib.legend.Legend at 0x1e482b4fd68>"
      ]
     },
     "execution_count": 92,
     "metadata": {},
     "output_type": "execute_result"
    },
    {
     "data": {
      "image/png": "[encoded data removed]",
      "text/plain": [
       "<matplotlib.figure.Figure at 0x1e482ad9358>"
      ]
     },
     "metadata": {},
     "output_type": "display_data"
    }
   ],
   "source": [
    "plt.plot(pl, (toyex.T)[7], \"o\", label=\"BC-SVM\", color='black', linestyle='-', linewidth= 2.0)\n",
    "plt.plot(pl, (toyex.T)[4], \"s\", label=\"SVM\", color='blue', linestyle='--', linewidth= 2.0)\n",
    "plt.ylim(-0.02, 0.52)\n",
    "plt.xlabel(\"$ \\log_2 p $\")\n",
    "plt.ylabel(\"$ \\overline{e}(2)$\")\n",
    "plt.legend(loc=\"right\")"
   ]
  },
  {
   "cell_type": "code",
   "execution_count": 93,
   "metadata": {},
   "outputs": [
    {
     "data": {
      "text/plain": [
       "<matplotlib.legend.Legend at 0x1e482bc3a58>"
      ]
     },
     "execution_count": 93,
     "metadata": {},
     "output_type": "execute_result"
    },
    {
     "data": {
      "image/png": "[encoded data removed]",
      "text/plain": [
       "<matplotlib.figure.Figure at 0x1e482b3b278>"
      ]
     },
     "metadata": {},
     "output_type": "display_data"
    }
   ],
   "source": [
    "plt.plot(pl, (toyex.T)[8], \"o\", label=\"BC-SVM\", color='black', linestyle='-', linewidth= 2.0)\n",
    "plt.plot(pl, (toyex.T)[5], \"s\", label=\"SVM\", color='blue', linestyle='--', linewidth= 2.0)\n",
    "plt.ylim(-0.02, 0.52)\n",
    "plt.xlabel(\"$ \\log_2 p $\")\n",
    "plt.ylabel(\"$ \\overline{e}$\")\n",
    "plt.legend(loc=\"right\")"
   ]
  },
  {
   "cell_type": "code",
   "execution_count": 61,
   "metadata": {},
   "outputs": [
    {
     "data": {
      "text/plain": [
       "0.088250101624753177"
      ]
     },
     "execution_count": 61,
     "metadata": {},
     "output_type": "execute_result"
    }
   ],
   "source": [
    "Sigma1[0,3]"
   ]
  },
  {
   "cell_type": "code",
   "execution_count": 71,
   "metadata": {},
   "outputs": [
    {
     "name": "stdout",
     "output_type": "stream",
     "text": [
      "1\n",
      "[0.914, 0.881, 0.8975, 0.331, 0.996, 0.6635, 0.903, 0.887, 0.895]\n",
      "2\n",
      "[0.9545, 0.9215, 0.938, 0.699, 0.9925, 0.84575, 0.95, 0.9295, 0.93975]\n",
      "3\n",
      "[0.967, 0.938, 0.9525, 0.8305, 0.993, 0.91175, 0.959, 0.9545, 0.95675]\n",
      "4\n",
      "[0.9785, 0.9355, 0.957, 0.895, 0.985, 0.94, 0.9735, 0.9555, 0.9645]\n",
      "5\n",
      "[0.9745, 0.942, 0.95825, 0.921, 0.993, 0.957, 0.9715, 0.965, 0.96825]\n",
      "6\n",
      "[0.982, 0.9565, 0.96925, 0.946, 0.9925, 0.96925, 0.979, 0.975, 0.977]\n",
      "7\n",
      "[0.9795, 0.958, 0.96875, 0.943, 0.9905, 0.96675, 0.978, 0.9795, 0.97875]\n"
     ]
    }
   ],
   "source": [
    "#case (e)\n",
    "p = 1000\n",
    "#mean vector\n",
    "t = 2*math.ceil((p ** (2/3))/2)\n",
    "mu1 = [0]*p; mu2=np.zeros(p);\n",
    "for i in range(0,t//2):\n",
    "    mu2[i] = 1\n",
    "for i in range(p-t//2,p):\n",
    "    mu2[i] = -1\n",
    "mu = [mu1, mu2]\n",
    "#covariance\n",
    "B = [];\n",
    "for i in range(1,p+1):\n",
    "    B.append(0.5+i/(p+1))\n",
    "B1 = np.zeros((p,p));B2 = np.zeros((p,p));\n",
    "for i in range(0,p):\n",
    "    for j in range(0,p):\n",
    "        B1[i,j] = 0.3**(abs(i-j)**(1/3))\n",
    "        B2[i,j] = 0.4**(abs(i-j)**(1/3))\n",
    "Sigma1 = np.dot(np.diag(B), B1, np.diag(B))\n",
    "Sigma2 = np.dot(np.diag(B), B2, np.diag(B))\n",
    "Sigma0=[Sigma1, Sigma2];\n",
    "    \n",
    "P= [];Q=[];\n",
    "for i in range(0,2):\n",
    "    decomposition = np.linalg.eig(Sigma0[i]) \n",
    "    P.append(decomposition[0])\n",
    "    Q.append(decomposition[1])\n",
    "clf = SVC(C = float(\"inf\"), kernel='linear')\n",
    "for q in range(1,8):\n",
    "    print(q)\n",
    "    Y1 = 0; Y2 = 0; Y3 = 0; Y4 = 0; Y5 = 0; Y6 = 0;\n",
    "    n = [4*q,8*q];\n",
    "    y = ([-1]*n[0]) + ([1]*n[1])\n",
    "    #iteration\n",
    "    for l in range(2000):\n",
    "        r1 = [];r2 = [];\n",
    "        for j in range(n[0]):\n",
    "            r0 = [];    \n",
    "            for i in range(p):\n",
    "                r0.append(math.sqrt(P[0][i])*(np.random.standard_t(10,1)/math.sqrt(10/8))[0])\n",
    "            r1.append(np.dot(Q[0], r0) + mu[0])\n",
    "        for j in range(n[1]):\n",
    "            r0 = [];\n",
    "            for i in range(p):\n",
    "                r0.append(math.sqrt(P[1][i])*(np.random.standard_t(10,1)/math.sqrt(10/8))[0])\n",
    "            r2.append(np.dot(Q[1], r0) + mu[1])\n",
    "        np.shape(r1)\n",
    "        r0 = [];\n",
    "        for i in range(p):\n",
    "            r0.append(math.sqrt(P[0][i])*(np.random.standard_t(10,1)/math.sqrt(10/8))[0])\n",
    "        test1 = np.dot(Q[0], r0) + mu[0];r0 = [];\n",
    "        for i in range(p):\n",
    "            r0.append(math.sqrt(P[1][i])*(np.random.standard_t(10,1)/math.sqrt(10/8))[0])\n",
    "        test2 = np.dot(Q[1], r0) + mu[1];test = [test1, test2];\n",
    "        mean1 = np.mean(r1, axis = 0);mean2 = np.mean(r2, axis = 0)\n",
    "        g1 = np.trace(np.cov(r1, rowvar=0, bias=0));g2 = np.trace(np.cov(r2, rowvar=0,bias=0));\n",
    "        #SVM \n",
    "        r1.extend(r2)\n",
    "        clf.fit(r1, y)\n",
    "        bc = (g1/n[0]-g2/n[1])/((np.linalg.norm(mean1-mean2))**2)\n",
    "        #prediction\n",
    "        if np.dot(test1 - (mean1 + mean2)/2, mean2-mean1)-g1/2/n[0]+g2/2/n[1]<0:\n",
    "            Y1 = Y1 +1\n",
    "        else:\n",
    "            Y1 = Y1 +0\n",
    "        if np.dot(test2 - (mean1 + mean2)/2, mean2-mean1)-g1/2/n[0]+g2/2/n[1]>0:\n",
    "            Y2 = Y2 + 1\n",
    "        else:\n",
    "            Y2 = Y2 + 0\n",
    "        if clf.predict([test1])<0:\n",
    "            Y3 = Y3 +1\n",
    "        else:\n",
    "            Y3 = Y3 +0\n",
    "        if clf.predict([test2])>0:\n",
    "            Y4 = Y4 + 1\n",
    "        else:\n",
    "            Y4 = Y4 + 0\n",
    "        if clf.decision_function([test1])-bc<0:\n",
    "            Y5 = Y5 +1\n",
    "        else:\n",
    "            Y5 = Y5 +0\n",
    "        if clf.decision_function([test2])-bc>0:\n",
    "           pl = np.arange(6,13,1)\n",
    "toyex = [[1]*9]*7-np.array([\n",
    "    [0.847, 0.805, 0.826, 0.5265, 0.976, 0.75125, 0.766, 0.906, 0.836],\n",
    "    [0.8685, 0.848, 0.85825, 0.4635, 0.994, 0.72875, 0.797, 0.9105, 0.85375],\n",
    "    [0.9035, 0.8715, 0.8875, 0.391, 0.9955, 0.69325, 0.8475, 0.9255, 0.8865],\n",
    "    [0.9205, 0.8705, 0.8955, 0.233, 0.9995, 0.61625, 0.89, 0.9135, 0.90175],\n",
    "    [0.942, 0.8985, 0.92025, 0.0905, 1.0, 0.54525, 0.9275, 0.93, 0.92875],\n",
    "    [0.9705, 0.9465, 0.9585, 0.014, 1.0, 0.507, 0.9585, 0.951, 0.95475],\n",
    "    [0.983, 0.966, 0.9745, 0.0005, 1.0, 0.50025, 0.98, 0.9685, 0.97425]\n",
    "])\n",
    "plt.plot(pl, (toyex.T)[6], \"o\", label=\"BC-SVM\", color='black', linestyle='-', linewidth= 2.0)\n",
    "plt.plot(pl, (toyex.T)[3], \"s\", label=\"SVM\", color='blue', linestyle='--', linewidth= 2.0)\n",
    "plt.ylim(-0.02, 1.02)\n",
    "plt.xlabel(\"$ \\log_2 p $\")\n",
    "plt.ylabel(\"$ \\overline{e}(1)$\")\n",
    "plt.legend(loc=\"right\") Y6 = Y6 + 1\n",
    "        else:\n",
    "            Y6 = Y6 + 0\n",
    "    print([Y1/2000, Y2/2000, (Y1+Y2)/4000, Y3/2000, Y4/2000, (Y3+Y4)/4000, Y5/2000, Y6/2000, (Y5+Y6)/4000])"
   ]
  },
  {
   "cell_type": "code",
   "execution_count": 95,
   "metadata": {
    "collapsed": true
   },
   "outputs": [],
   "source": [
    "pl = np.arange(4,32,4)\n",
    "toyex = [[1]*9]*7-np.array([\n",
    "    [0.914, 0.881, 0.8975, 0.331, 0.996, 0.6635, 0.903, 0.887, 0.895],\n",
    "    [0.9545, 0.9215, 0.938, 0.699, 0.9925, 0.84575, 0.95, 0.9295, 0.93975],\n",
    "    [0.967, 0.938, 0.9525, 0.8305, 0.993, 0.91175, 0.959, 0.9545, 0.95675],\n",
    "    [0.9785, 0.9355, 0.957, 0.895, 0.985, 0.94, 0.9735, 0.9555, 0.9645],\n",
    "    [0.9745, 0.942, 0.95825, 0.921, 0.993, 0.957, 0.9715, 0.965, 0.96825],\n",
    "    [0.982, 0.9565, 0.96925, 0.946, 0.9925, 0.96925, 0.979, 0.975, 0.977],\n",
    "    [0.9795, 0.958, 0.96875, 0.943, 0.9905, 0.96675, 0.978, 0.9795, 0.97875]\n",
    "])"
   ]
  },
  {
   "cell_type": "code",
   "execution_count": 110,
   "metadata": {},
   "outputs": [
    {
     "data": {
      "text/plain": [
       "<matplotlib.legend.Legend at 0x1e483af2fd0>"
      ]
     },
     "execution_count": 110,
     "metadata": {},
     "output_type": "execute_result"
    },
    {
     "data": {
      "image/png": "[encoded data removed]",
      "text/plain": [
       "<matplotlib.figure.Figure at 0x1e483a62710>"
      ]
     },
     "metadata": {},
     "output_type": "display_data"
    }
   ],
   "source": [
    "plt.plot(pl, (toyex.T)[6], \"o\", label=\"BC-SVM\", color='black', linestyle='-', linewidth= 2.0)\n",
    "plt.plot(pl, (toyex.T)[3], \"s\", label=\"SVM\", color='blue', linestyle='--', linewidth= 2.0)\n",
    "plt.ylim(-0.02, 0.72)\n",
    "plt.xlabel(\"$ n_1 $\")\n",
    "plt.ylabel(\"$ \\overline{e}(1)$\")\n",
    "plt.legend(loc=\"right\")"
   ]
  },
  {
   "cell_type": "code",
   "execution_count": 109,
   "metadata": {},
   "outputs": [
    {
     "data": {
      "text/plain": [
       "<matplotlib.legend.Legend at 0x1e483a896d8>"
      ]
     },
     "execution_count": 109,
     "metadata": {},
     "output_type": "execute_result"
    },
    {
     "data": {
      "image/png": "[encoded data removed]",
      "text/plain": [
       "<matplotlib.figure.Figure at 0x1e4838e89b0>"
      ]
     },
     "metadata": {},
     "output_type": "display_data"
    }
   ],
   "source": [
    "plt.plot(pl, (toyex.T)[7], \"o\", label=\"BC-SVM\", color='black', linestyle='-', linewidth= 2.0)\n",
    "plt.plot(pl, (toyex.T)[4], \"s\", label=\"SVM\", color='blue', linestyle='--', linewidth= 2.0)\n",
    "plt.ylim(-0.02, 0.38)\n",
    "plt.xlabel(\"$ n_1 $\")\n",
    "plt.ylabel(\"$ \\overline{e}(2)$\")\n",
    "plt.legend(loc=\"right\")"
   ]
  },
  {
   "cell_type": "code",
   "execution_count": 111,
   "metadata": {},
   "outputs": [
    {
     "data": {
      "text/plain": [
       "<matplotlib.legend.Legend at 0x1e483b67c50>"
      ]
     },
     "execution_count": 111,
     "metadata": {},
     "output_type": "execute_result"
    },
    {
     "data": {
      "image/png": "[encoded data removed]",
      "text/plain": [
       "<matplotlib.figure.Figure at 0x1e483ae4080>"
      ]
     },
     "metadata": {},
     "output_type": "display_data"
    }
   ],
   "source": [
    "plt.plot(pl, (toyex.T)[8], \"o\", label=\"BC-SVM\", color='black', linestyle='-', linewidth= 2.0)\n",
    "plt.plot(pl, (toyex.T)[5], \"s\", label=\"SVM\", color='blue', linestyle='--', linewidth= 2.0)\n",
    "plt.ylim(-0.02, 0.38)\n",
    "plt.xlabel(\"$ n_1 $\")\n",
    "plt.ylabel(\"$ \\overline{e}$\")\n",
    "plt.legend(loc=\"right\")"
   ]
  },
  {
   "cell_type": "code",
   "execution_count": 73,
   "metadata": {},
   "outputs": [
    {
     "name": "stdout",
     "output_type": "stream",
     "text": [
      "1\n",
      "[0.547, 0.508, 0.5275, 0.074, 0.9335, 0.50375, 0.5365, 0.5125, 0.5245]\n",
      "2\n",
      "[0.553, 0.5275, 0.54025, 0.0745, 0.9355, 0.505, 0.5505, 0.5455, 0.548]\n",
      "3\n",
      "[0.6025, 0.5695, 0.586, 0.1225, 0.94, 0.53125, 0.594, 0.5745, 0.58425]\n",
      "4\n",
      "[0.656, 0.6465, 0.65125, 0.1615, 0.957, 0.55925, 0.6535, 0.674, 0.66375]\n",
      "5\n",
      "[0.773, 0.7485, 0.76075, 0.3, 0.972, 0.636, 0.7645, 0.7625, 0.7635]\n",
      "6\n",
      "[0.913, 0.874, 0.8935, 0.563, 0.984, 0.7735, 0.907, 0.892, 0.8995]\n",
      "7\n",
      "[0.9835, 0.949, 0.96625, 0.862, 0.992, 0.927, 0.978, 0.9615, 0.96975]\n"
     ]
    }
   ],
   "source": [
    "#case (f)\n",
    "clf = SVC(C = float(\"inf\"), kernel='linear')\n",
    "n = [10,20];c = [1,1]; p = 1000;\n",
    "#covariance\n",
    "B = [];\n",
    "for i in range(1,p+1):\n",
    "    B.append(0.5+i/(p+1))\n",
    "B1 = np.zeros((p,p));B2 = np.zeros((p,p));\n",
    "for i in range(0,p):\n",
    "    for j in range(0,p):\n",
    "        B1[i,j] = 0.3**(abs(i-j)**(1/3))\n",
    "        B2[i,j] = 0.4**(abs(i-j)**(1/3))\n",
    "Sigma1 = np.dot(np.diag(B), B1, np.diag(B))\n",
    "Sigma2 = np.dot(np.diag(B), B2, np.diag(B))\n",
    "Sigma0=[Sigma1, Sigma2];\n",
    "    \n",
    "P= [];Q=[];\n",
    "for i in range(0,2):\n",
    "    decomposition = np.linalg.eig(Sigma0[i]) \n",
    "    P.append(decomposition[0])\n",
    "    Q.append(decomposition[1])\n",
    "y = ([-1]*n[0]) + ([1]*n[1])\n",
    "for q in range(1,8):\n",
    "    print(q)\n",
    "    Y1 = 0; Y2 = 0; Y3 = 0; Y4 = 0; Y5 = 0; Y6 = 0;\n",
    "    #mean vector\n",
    "    t = 2**q\n",
    "    mu1 = [0]*p; mu2=np.zeros(p);\n",
    "    for i in range(0,t//2):\n",
    "        mu2[i] = 1\n",
    "    for i in range(p-t//2,p):\n",
    "        mu2[i] = -1\n",
    "    mu = [mu1, mu2]\n",
    "\n",
    "    #iteration\n",
    "    for l in range(2000):\n",
    "        r1 = [];r2 = [];\n",
    "        for j in range(n[0]):\n",
    "            r0 = [];    \n",
    "            for i in range(p):\n",
    "                r0.append(math.sqrt(P[0][i])*(standard_t(10,1)/math.sqrt(10/8))[0])\n",
    "            r1.append(np.dot(Q[0], r0) + mu[0])\n",
    "        for j in range(n[1]):\n",
    "            r0 = [];\n",
    "            for i in range(p):\n",
    "                r0.append(math.sqrt(P[1][i])*(standard_t(10,1)/math.sqrt(10/8))[0])\n",
    "            r2.append(np.dot(Q[1], r0) + mu[1])\n",
    "        np.shape(r1)\n",
    "        r0 = [];\n",
    "        for i in range(p):\n",
    "                r0.append(math.sqrt(P[0][i])*(standard_t(10,1)/math.sqrt(10/8))[0])\n",
    "        test1 = np.dot(Q[0], r0) + mu[0];r0 = [];\n",
    "        for i in range(p):\n",
    "            r0.append(math.sqrt(P[1][i])*(standard_t(10,1)/math.sqrt(10/8))[0])\n",
    "        test2 = np.dot(Q[1], r0) + mu[1];test = [test1, test2];\n",
    "        mean1 = np.mean(r1, axis = 0);mean2 = np.mean(r2, axis = 0)\n",
    "        g1 = np.trace(np.cov(r1, rowvar=0, bias=0));g2 = np.trace(np.cov(r2, rowvar=0,bias=0));\n",
    "        #SVM \n",
    "        r1.extend(r2)\n",
    "        clf.fit(r1, y)\n",
    "        bc = (g1/n[0]-g2/n[1])/((np.linalg.norm(mean1-mean2))**2)\n",
    "        #prediction\n",
    "        if np.dot(test1 - (mean1 + mean2)/2, mean2-mean1)-g1/2/n[0]+g2/2/n[1]<0:\n",
    "            Y1 = Y1 +1\n",
    "        else:\n",
    "            Y1 = Y1 +0\n",
    "        if np.dot(test2 - (mean1 + mean2)/2, mean2-mean1)-g1/2/n[0]+g2/2/n[1]>0:\n",
    "            Y2 = Y2 + 1\n",
    "        else:\n",
    "            Y2 = Y2 + 0\n",
    "        if clf.predict([test1])<0:\n",
    "            Y3 = Y3 +1\n",
    "        else:\n",
    "            Y3 = Y3 +0\n",
    "        if clf.predict([test2])>0:\n",
    "            Y4 = Y4 + 1\n",
    "        else:\n",
    "            Y4 = Y4 + 0\n",
    "        if clf.decision_function([test1])-bc<0:\n",
    "            Y5 = Y5 +1\n",
    "        else:\n",
    "            Y5 = Y5 +0\n",
    "        if clf.decision_function([test2])-bc>0:\n",
    "            Y6 = Y6 + 1\n",
    "        else:\n",
    "            Y6 = Y6 + 0\n",
    "    print([Y1/2000, Y2/2000, (Y1+Y2)/4000, Y3/2000, Y4/2000, (Y3+Y4)/4000, Y5/2000, Y6/2000, (Y5+Y6)/4000])"
   ]
  },
  {
   "cell_type": "code",
   "execution_count": 132,
   "metadata": {
    "collapsed": true
   },
   "outputs": [],
   "source": [
    "pl = np.arange(1,8,1)\n",
    "toyex = [[1]*9]*7-np.array([\n",
    "    [0.547, 0.508, 0.5275, 0.074, 0.9335, 0.50375, 0.5365, 0.5125, 0.5245],\n",
    "    [0.553, 0.5275, 0.54025, 0.0745, 0.9355, 0.505, 0.5505, 0.5455, 0.548],\n",
    "    [0.6025, 0.5695, 0.586, 0.1225, 0.94, 0.53125, 0.594, 0.5745, 0.58425],\n",
    "    [0.656, 0.6465, 0.65125, 0.1615, 0.957, 0.55925, 0.6535, 0.674, 0.66375],\n",
    "    [0.773, 0.7485, 0.76075, 0.3, 0.972, 0.636, 0.7645, 0.7625, 0.7635],\n",
    "    [0.913, 0.874, 0.8935, 0.563, 0.984, 0.7735, 0.907, 0.892, 0.8995],\n",
    "    [0.9835, 0.949, 0.96625, 0.862, 0.992, 0.927, 0.978, 0.9615, 0.96975]\n",
    "])"
   ]
  },
  {
   "cell_type": "code",
   "execution_count": 135,
   "metadata": {},
   "outputs": [
    {
     "data": {
      "text/plain": [
       "<matplotlib.legend.Legend at 0x1e483d0fa58>"
      ]
     },
     "execution_count": 135,
     "metadata": {},
     "output_type": "execute_result"
    },
    {
     "data": {
      "image/png": "[encoded data removed]",
      "text/plain": [
       "<matplotlib.figure.Figure at 0x1e483c7c588>"
      ]
     },
     "metadata": {},
     "output_type": "display_data"
    }
   ],
   "source": [
    "plt.plot(pl, (toyex.T)[6], \"o\", label=\"BC-SVM\", color='black', linestyle='-', linewidth= 2.0)\n",
    "plt.plot(pl, (toyex.T)[3], \"s\", label=\"SVM\", color='blue', linestyle='--', linewidth= 2.0)\n",
    "plt.ylim(-0.02, 1.02)\n",
    "plt.xlabel(\"$ \\log_2 \\Delta $\")\n",
    "plt.ylabel(\"$ \\overline{e}(1)$\")\n",
    "plt.legend(loc=\"upper right\")"
   ]
  },
  {
   "cell_type": "code",
   "execution_count": 138,
   "metadata": {},
   "outputs": [
    {
     "data": {
      "text/plain": [
       "<matplotlib.legend.Legend at 0x1e483e36f60>"
      ]
     },
     "execution_count": 138,
     "metadata": {},
     "output_type": "execute_result"
    },
    {
     "data": {
      "image/png": "[encoded data removed]",
      "text/plain": [
       "<matplotlib.figure.Figure at 0x1e4c1da7d68>"
      ]
     },
     "metadata": {},
     "output_type": "display_data"
    }
   ],
   "source": [
    "plt.plot(pl, (toyex.T)[7], \"o\", label=\"BC-SVM\", color='black', linestyle='-', linewidth= 2.0)\n",
    "plt.plot(pl, (toyex.T)[4], \"s\", label=\"SVM\", color='blue', linestyle='--', linewidth= 2.0)\n",
    "plt.ylim(-0.02, 1.02)\n",
    "plt.xlabel(\"$ \\log_2 \\Delta $\")\n",
    "plt.ylabel(\"$ \\overline{e}(2)$\")\n",
    "plt.legend(loc=\"upper right\")"
   ]
  },
  {
   "cell_type": "code",
   "execution_count": 139,
   "metadata": {},
   "outputs": [
    {
     "data": {
      "text/plain": [
       "<matplotlib.legend.Legend at 0x1e483eab9e8>"
      ]
     },
     "execution_count": 139,
     "metadata": {},
     "output_type": "execute_result"
    },
    {
     "data": {
      "image/png": "[encoded data removed]",
      "text/plain": [
       "<matplotlib.figure.Figure at 0x1e483e20160>"
      ]
     },
     "metadata": {},
     "output_type": "display_data"
    }
   ],
   "source": [
    "plt.plot(pl, (toyex.T)[8], \"o\", label=\"BC-SVM\", color='black', linestyle='-', linewidth= 2.0)\n",
    "plt.plot(pl, (toyex.T)[5], \"s\", label=\"SVM\", color='blue', linestyle='--', linewidth= 2.0)\n",
    "plt.ylim(-0.02, 0.52)\n",
    "plt.xlabel(\"$ \\log_2 \\Delta $\")\n",
    "plt.ylabel(\"$ \\overline{e}$\")\n",
    "plt.legend(loc=\"upper right\")"
   ]
  },
  {
   "cell_type": "code",
   "execution_count": 72,
   "metadata": {},
   "outputs": [
    {
     "name": "stdout",
     "output_type": "stream",
     "text": [
      "1\n",
      "[0.5295, 0.501, 0.51525, 0.0715, 0.9285, 0.5, 0.5045, 0.5195, 0.512]\n",
      "2\n",
      "[0.5315, 0.56, 0.54575, 0.0905, 0.9395, 0.515, 0.5235, 0.5615, 0.5425]\n",
      "3\n",
      "[0.6755, 0.6505, 0.663, 0.1715, 0.9625, 0.567, 0.6685, 0.6685, 0.6685]\n",
      "4\n",
      "[0.9295, 0.9025, 0.916, 0.5985, 0.9935, 0.796, 0.932, 0.9175, 0.92475]\n",
      "5\n",
      "[0.9995, 0.9995, 0.9995, 0.9995, 1.0, 0.99975, 0.9995, 1.0, 0.99975]\n",
      "6\n",
      "[1.0, 1.0, 1.0, 1.0, 1.0, 1.0, 1.0, 1.0, 1.0]\n",
      "7\n",
      "[1.0, 1.0, 1.0, 1.0, 1.0, 1.0, 1.0, 1.0, 1.0]\n"
     ]
    }
   ],
   "source": [
    "#case (g)\n",
    "clf = SVC(C = float(\"inf\"), kernel='linear')\n",
    "n = [10,20];c = [1,1]; p = 1000;\n",
    "#covariance\n",
    "B = [];\n",
    "for i in range(1,p+1):\n",
    "    B.append(0.5+i/(p+1))\n",
    "B1 = np.zeros((p,p));B2 = np.zeros((p,p));\n",
    "for i in range(0,p):\n",
    "    for j in range(0,p):\n",
    "        B1[i,j] = 0.3**(abs(i-j)**(1/3))\n",
    "        B2[i,j] = 0.4**(abs(i-j)**(1/3))\n",
    "Sigma1 = np.dot(np.diag(B), B1, np.diag(B))\n",
    "Sigma2 = np.dot(np.diag(B), B2, np.diag(B))\n",
    "Sigma0=[Sigma1, Sigma2];\n",
    "    \n",
    "P= [];Q=[];\n",
    "for i in range(0,2):\n",
    "    decomposition = np.linalg.eig(Sigma0[i]) \n",
    "    P.append(decomposition[0])\n",
    "    Q.append(decomposition[1])\n",
    "y = ([-1]*n[0]) + ([1]*n[1])\n",
    "for q in range(1,8):\n",
    "    print(q)\n",
    "    Y1 = 0; Y2 = 0; Y3 = 0; Y4 = 0; Y5 = 0; Y6 = 0;\n",
    "    #mean vector\n",
    "    t = 2**q\n",
    "    mu1 = [0]*p; mu2=np.zeros(p);\n",
    "    for i in range(0,t//2):\n",
    "        mu2[i] = (t**(1/2))/2\n",
    "    for i in range(p-t//2,p):\n",
    "        mu2[i] = -(t**(1/2))/2\n",
    "    mu = [mu1, mu2]\n",
    "\n",
    "    #iteration\n",
    "    for l in range(2000):\n",
    "        r1 = [];r2 = [];\n",
    "        for j in range(n[0]):\n",
    "            r0 = [];    \n",
    "            for i in range(p):\n",
    "                r0.append(math.sqrt(P[0][i])*(standard_t(10,1)/math.sqrt(10/8))[0])\n",
    "            r1.append(np.dot(Q[0], r0) + mu[0])\n",
    "        for j in range(n[1]):\n",
    "            r0 = [];\n",
    "            for i in range(p):\n",
    "                r0.append(math.sqrt(P[1][i])*(standard_t(10,1)/math.sqrt(10/8))[0])\n",
    "            r2.append(np.dot(Q[1], r0) + mu[1])\n",
    "        np.shape(r1)\n",
    "        r0 = [];\n",
    "        for i in range(p):\n",
    "                r0.append(math.sqrt(P[0][i])*(standard_t(10,1)/math.sqrt(10/8))[0])\n",
    "        test1 = np.dot(Q[0], r0) + mu[0];r0 = [];\n",
    "        for i in range(p):\n",
    "            r0.append(math.sqrt(P[1][i])*(standard_t(10,1)/math.sqrt(10/8))[0])\n",
    "        test2 = np.dot(Q[1], r0) + mu[1];test = [test1, test2];\n",
    "        mean1 = np.mean(r1, axis = 0);mean2 = np.mean(r2, axis = 0)\n",
    "        g1 = np.trace(np.cov(r1, rowvar=0, bias=0));g2 = np.trace(np.cov(r2, rowvar=0,bias=0));\n",
    "        #SVM \n",
    "        r1.extend(r2)\n",
    "        clf.fit(r1, y)\n",
    "        bc = (g1/n[0]-g2/n[1])/((np.linalg.norm(mean1-mean2))**2)\n",
    "        #prediction\n",
    "        if np.dot(test1 - (mean1 + mean2)/2, mean2-mean1)-g1/2/n[0]+g2/2/n[1]<0:\n",
    "            Y1 = Y1 +1\n",
    "        else:\n",
    "            Y1 = Y1 +0\n",
    "        if np.dot(test2 - (mean1 + mean2)/2, mean2-mean1)-g1/2/n[0]+g2/2/n[1]>0:\n",
    "            Y2 = Y2 + 1\n",
    "        else:\n",
    "            Y2 = Y2 + 0\n",
    "        if clf.predict([test1])<0:\n",
    "            Y3 = Y3 +1\n",
    "        else:\n",
    "            Y3 = Y3 +0\n",
    "        if clf.predict([test2])>0:\n",
    "            Y4 = Y4 + 1\n",
    "        else:\n",
    "            Y4 = Y4 + 0\n",
    "        if clf.decision_function([test1])-bc<0:\n",
    "            Y5 = Y5 +1\n",
    "        else:\n",
    "            Y5 = Y5 +0\n",
    "        if clf.decision_function([test2])-bc>0:\n",
    "            Y6 = Y6 + 1\n",
    "        else:\n",
    "            Y6 = Y6 + 0\n",
    "    print([Y1/2000, Y2/2000, (Y1+Y2)/4000, Y3/2000, Y4/2000, (Y3+Y4)/4000, Y5/2000, Y6/2000, (Y5+Y6)/4000])"
   ]
  },
  {
   "cell_type": "code",
   "execution_count": 141,
   "metadata": {
    "collapsed": true
   },
   "outputs": [],
   "source": [
    "pl = np.arange(1,8,1)\n",
    "toyex = [[1]*9]*7-np.array([\n",
    "    [0.5295, 0.501, 0.51525, 0.0715, 0.9285, 0.5, 0.5045, 0.5195, 0.512],\n",
    "    [0.5315, 0.56, 0.54575, 0.0905, 0.9395, 0.515, 0.5235, 0.5615, 0.5425],\n",
    "    [0.6755, 0.6505, 0.663, 0.1715, 0.9625, 0.567, 0.6685, 0.6685, 0.6685],\n",
    "    [0.9295, 0.9025, 0.916, 0.5985, 0.9935, 0.796, 0.932, 0.9175, 0.92475],\n",
    "    [0.9995, 0.9995, 0.9995, 0.9995, 1.0, 0.99975, 0.9995, 1.0, 0.99975],\n",
    "    [1.0, 1.0, 1.0, 1.0, 1.0, 1.0, 1.0, 1.0, 1.0],\n",
    "    [1.0, 1.0, 1.0, 1.0, 1.0, 1.0, 1.0, 1.0, 1.0]\n",
    "])"
   ]
  },
  {
   "cell_type": "code",
   "execution_count": 142,
   "metadata": {},
   "outputs": [
    {
     "data": {
      "text/plain": [
       "<matplotlib.legend.Legend at 0x1e483f14dd8>"
      ]
     },
     "execution_count": 142,
     "metadata": {},
     "output_type": "execute_result"
    },
    {
     "data": {
      "image/png": "[encoded data removed]",
      "text/plain": [
       "<matplotlib.figure.Figure at 0x1e483c13cc0>"
      ]
     },
     "metadata": {},
     "output_type": "display_data"
    }
   ],
   "source": [
    "plt.plot(pl, (toyex.T)[6], \"o\", label=\"BC-SVM\", color='black', linestyle='-', linewidth= 2.0)\n",
    "plt.plot(pl, (toyex.T)[3], \"s\", label=\"SVM\", color='blue', linestyle='--', linewidth= 2.0)\n",
    "plt.ylim(-0.02, 1.02)\n",
    "plt.xlabel(\"$ \\log_2 \\Delta $\")\n",
    "plt.ylabel(\"$ \\overline{e}(1)$\")\n",
    "plt.legend(loc=\"right\")"
   ]
  },
  {
   "cell_type": "code",
   "execution_count": 143,
   "metadata": {},
   "outputs": [
    {
     "data": {
      "text/plain": [
       "<matplotlib.legend.Legend at 0x1e483f84eb8>"
      ]
     },
     "execution_count": 143,
     "metadata": {},
     "output_type": "execute_result"
    },
    {
     "data": {
      "image/png": "[encoded data removed]",
      "text/plain": [
       "<matplotlib.figure.Figure at 0x1e483ee8c50>"
      ]
     },
     "metadata": {},
     "output_type": "display_data"
    }
   ],
   "source": [
    "plt.plot(pl, (toyex.T)[7], \"o\", label=\"BC-SVM\", color='black', linestyle='-', linewidth= 2.0)\n",
    "plt.plot(pl, (toyex.T)[4], \"s\", label=\"SVM\", color='blue', linestyle='--', linewidth= 2.0)\n",
    "plt.ylim(-0.02, 1.02)\n",
    "plt.xlabel(\"$ \\log_2 \\Delta $\")\n",
    "plt.ylabel(\"$ \\overline{e}(1)$\")\n",
    "plt.legend(loc=\"right\")"
   ]
  },
  {
   "cell_type": "code",
   "execution_count": 144,
   "metadata": {},
   "outputs": [
    {
     "data": {
      "text/plain": [
       "<matplotlib.legend.Legend at 0x1e483ff73c8>"
      ]
     },
     "execution_count": 144,
     "metadata": {},
     "output_type": "execute_result"
    },
    {
     "data": {
      "image/png": "[encoded data removed]",
      "text/plain": [
       "<matplotlib.figure.Figure at 0x1e483f71438>"
      ]
     },
     "metadata": {},
     "output_type": "display_data"
    }
   ],
   "source": [
    "plt.plot(pl, (toyex.T)[8], \"o\", label=\"BC-SVM\", color='black', linestyle='-', linewidth= 2.0)\n",
    "plt.plot(pl, (toyex.T)[5], \"s\", label=\"SVM\", color='blue', linestyle='--', linewidth= 2.0)\n",
    "plt.ylim(-0.02, 0.52)\n",
    "plt.xlabel(\"$ \\log_2 \\Delta $\")\n",
    "plt.ylabel(\"$ \\overline{e}(1)$\")\n",
    "plt.legend(loc=\"right\")"
   ]
  },
  {
   "cell_type": "markdown",
   "metadata": {},
   "source": []
  }
 ],
 "metadata": {
  "kernelspec": {
   "display_name": "Python 3",
   "language": "python",
   "name": "python3"
  },
  "language_info": {
   "codemirror_mode": {
    "name": "ipython",
    "version": 3
   },
   "file_extension": ".py",
   "mimetype": "text/x-python",
   "name": "python",
   "nbconvert_exporter": "python",
   "pygments_lexer": "ipython3",
   "version": "3.6.3"
  }
 },
 "nbformat": 4,
 "nbformat_minor": 2
}
